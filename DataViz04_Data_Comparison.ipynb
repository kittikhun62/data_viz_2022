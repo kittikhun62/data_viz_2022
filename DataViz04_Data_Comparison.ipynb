{
  "nbformat": 4,
  "nbformat_minor": 0,
  "metadata": {
    "colab": {
      "name": "DataViz04_Data_Comparison.ipynb",
      "provenance": [],
      "include_colab_link": true
    },
    "kernelspec": {
      "name": "python3",
      "display_name": "Python 3"
    },
    "language_info": {
      "name": "python"
    }
  },
  "cells": [
    {
      "cell_type": "markdown",
      "metadata": {
        "id": "view-in-github",
        "colab_type": "text"
      },
      "source": [
        "<a href=\"https://colab.research.google.com/github/kittikhun62/data_viz_2022/blob/main/DataViz04_Data_Comparison.ipynb\" target=\"_parent\"><img src=\"https://colab.research.google.com/assets/colab-badge.svg\" alt=\"Open In Colab\"/></a>"
      ]
    },
    {
      "cell_type": "markdown",
      "source": [
        "# เปรียบเทียบ ข้อมูล ด้วย coordinate plot"
      ],
      "metadata": {
        "id": "Ksl41Pqt8nOD"
      }
    },
    {
      "cell_type": "code",
      "execution_count": 184,
      "metadata": {
        "id": "gZL1zSIl8KFa"
      },
      "outputs": [],
      "source": [
        "import pandas as pd #import ข้อมูลเข้า"
      ]
    },
    {
      "cell_type": "code",
      "source": [
        "example_df = pd.read_csv('https://raw.github.com/pandas-dev/pandas/master/pandas/tests/io/data/csv/iris.csv')  #อ่านไฟล์ในเน็ตได้\n",
        "example_df  #นำข้อมูลเข้า"
      ],
      "metadata": {
        "colab": {
          "base_uri": "https://localhost:8080/",
          "height": 423
        },
        "id": "2dDF6riT8rvM",
        "outputId": "166ef86c-e9fb-44f7-8447-5cb0214041f9"
      },
      "execution_count": 185,
      "outputs": [
        {
          "output_type": "execute_result",
          "data": {
            "text/plain": [
              "     SepalLength  SepalWidth  PetalLength  PetalWidth            Name\n",
              "0            5.1         3.5          1.4         0.2     Iris-setosa\n",
              "1            4.9         3.0          1.4         0.2     Iris-setosa\n",
              "2            4.7         3.2          1.3         0.2     Iris-setosa\n",
              "3            4.6         3.1          1.5         0.2     Iris-setosa\n",
              "4            5.0         3.6          1.4         0.2     Iris-setosa\n",
              "..           ...         ...          ...         ...             ...\n",
              "145          6.7         3.0          5.2         2.3  Iris-virginica\n",
              "146          6.3         2.5          5.0         1.9  Iris-virginica\n",
              "147          6.5         3.0          5.2         2.0  Iris-virginica\n",
              "148          6.2         3.4          5.4         2.3  Iris-virginica\n",
              "149          5.9         3.0          5.1         1.8  Iris-virginica\n",
              "\n",
              "[150 rows x 5 columns]"
            ],
            "text/html": [
              "\n",
              "  <div id=\"df-9fa39a31-9acf-4353-a79d-d56b77a14369\">\n",
              "    <div class=\"colab-df-container\">\n",
              "      <div>\n",
              "<style scoped>\n",
              "    .dataframe tbody tr th:only-of-type {\n",
              "        vertical-align: middle;\n",
              "    }\n",
              "\n",
              "    .dataframe tbody tr th {\n",
              "        vertical-align: top;\n",
              "    }\n",
              "\n",
              "    .dataframe thead th {\n",
              "        text-align: right;\n",
              "    }\n",
              "</style>\n",
              "<table border=\"1\" class=\"dataframe\">\n",
              "  <thead>\n",
              "    <tr style=\"text-align: right;\">\n",
              "      <th></th>\n",
              "      <th>SepalLength</th>\n",
              "      <th>SepalWidth</th>\n",
              "      <th>PetalLength</th>\n",
              "      <th>PetalWidth</th>\n",
              "      <th>Name</th>\n",
              "    </tr>\n",
              "  </thead>\n",
              "  <tbody>\n",
              "    <tr>\n",
              "      <th>0</th>\n",
              "      <td>5.1</td>\n",
              "      <td>3.5</td>\n",
              "      <td>1.4</td>\n",
              "      <td>0.2</td>\n",
              "      <td>Iris-setosa</td>\n",
              "    </tr>\n",
              "    <tr>\n",
              "      <th>1</th>\n",
              "      <td>4.9</td>\n",
              "      <td>3.0</td>\n",
              "      <td>1.4</td>\n",
              "      <td>0.2</td>\n",
              "      <td>Iris-setosa</td>\n",
              "    </tr>\n",
              "    <tr>\n",
              "      <th>2</th>\n",
              "      <td>4.7</td>\n",
              "      <td>3.2</td>\n",
              "      <td>1.3</td>\n",
              "      <td>0.2</td>\n",
              "      <td>Iris-setosa</td>\n",
              "    </tr>\n",
              "    <tr>\n",
              "      <th>3</th>\n",
              "      <td>4.6</td>\n",
              "      <td>3.1</td>\n",
              "      <td>1.5</td>\n",
              "      <td>0.2</td>\n",
              "      <td>Iris-setosa</td>\n",
              "    </tr>\n",
              "    <tr>\n",
              "      <th>4</th>\n",
              "      <td>5.0</td>\n",
              "      <td>3.6</td>\n",
              "      <td>1.4</td>\n",
              "      <td>0.2</td>\n",
              "      <td>Iris-setosa</td>\n",
              "    </tr>\n",
              "    <tr>\n",
              "      <th>...</th>\n",
              "      <td>...</td>\n",
              "      <td>...</td>\n",
              "      <td>...</td>\n",
              "      <td>...</td>\n",
              "      <td>...</td>\n",
              "    </tr>\n",
              "    <tr>\n",
              "      <th>145</th>\n",
              "      <td>6.7</td>\n",
              "      <td>3.0</td>\n",
              "      <td>5.2</td>\n",
              "      <td>2.3</td>\n",
              "      <td>Iris-virginica</td>\n",
              "    </tr>\n",
              "    <tr>\n",
              "      <th>146</th>\n",
              "      <td>6.3</td>\n",
              "      <td>2.5</td>\n",
              "      <td>5.0</td>\n",
              "      <td>1.9</td>\n",
              "      <td>Iris-virginica</td>\n",
              "    </tr>\n",
              "    <tr>\n",
              "      <th>147</th>\n",
              "      <td>6.5</td>\n",
              "      <td>3.0</td>\n",
              "      <td>5.2</td>\n",
              "      <td>2.0</td>\n",
              "      <td>Iris-virginica</td>\n",
              "    </tr>\n",
              "    <tr>\n",
              "      <th>148</th>\n",
              "      <td>6.2</td>\n",
              "      <td>3.4</td>\n",
              "      <td>5.4</td>\n",
              "      <td>2.3</td>\n",
              "      <td>Iris-virginica</td>\n",
              "    </tr>\n",
              "    <tr>\n",
              "      <th>149</th>\n",
              "      <td>5.9</td>\n",
              "      <td>3.0</td>\n",
              "      <td>5.1</td>\n",
              "      <td>1.8</td>\n",
              "      <td>Iris-virginica</td>\n",
              "    </tr>\n",
              "  </tbody>\n",
              "</table>\n",
              "<p>150 rows × 5 columns</p>\n",
              "</div>\n",
              "      <button class=\"colab-df-convert\" onclick=\"convertToInteractive('df-9fa39a31-9acf-4353-a79d-d56b77a14369')\"\n",
              "              title=\"Convert this dataframe to an interactive table.\"\n",
              "              style=\"display:none;\">\n",
              "        \n",
              "  <svg xmlns=\"http://www.w3.org/2000/svg\" height=\"24px\"viewBox=\"0 0 24 24\"\n",
              "       width=\"24px\">\n",
              "    <path d=\"M0 0h24v24H0V0z\" fill=\"none\"/>\n",
              "    <path d=\"M18.56 5.44l.94 2.06.94-2.06 2.06-.94-2.06-.94-.94-2.06-.94 2.06-2.06.94zm-11 1L8.5 8.5l.94-2.06 2.06-.94-2.06-.94L8.5 2.5l-.94 2.06-2.06.94zm10 10l.94 2.06.94-2.06 2.06-.94-2.06-.94-.94-2.06-.94 2.06-2.06.94z\"/><path d=\"M17.41 7.96l-1.37-1.37c-.4-.4-.92-.59-1.43-.59-.52 0-1.04.2-1.43.59L10.3 9.45l-7.72 7.72c-.78.78-.78 2.05 0 2.83L4 21.41c.39.39.9.59 1.41.59.51 0 1.02-.2 1.41-.59l7.78-7.78 2.81-2.81c.8-.78.8-2.07 0-2.86zM5.41 20L4 18.59l7.72-7.72 1.47 1.35L5.41 20z\"/>\n",
              "  </svg>\n",
              "      </button>\n",
              "      \n",
              "  <style>\n",
              "    .colab-df-container {\n",
              "      display:flex;\n",
              "      flex-wrap:wrap;\n",
              "      gap: 12px;\n",
              "    }\n",
              "\n",
              "    .colab-df-convert {\n",
              "      background-color: #E8F0FE;\n",
              "      border: none;\n",
              "      border-radius: 50%;\n",
              "      cursor: pointer;\n",
              "      display: none;\n",
              "      fill: #1967D2;\n",
              "      height: 32px;\n",
              "      padding: 0 0 0 0;\n",
              "      width: 32px;\n",
              "    }\n",
              "\n",
              "    .colab-df-convert:hover {\n",
              "      background-color: #E2EBFA;\n",
              "      box-shadow: 0px 1px 2px rgba(60, 64, 67, 0.3), 0px 1px 3px 1px rgba(60, 64, 67, 0.15);\n",
              "      fill: #174EA6;\n",
              "    }\n",
              "\n",
              "    [theme=dark] .colab-df-convert {\n",
              "      background-color: #3B4455;\n",
              "      fill: #D2E3FC;\n",
              "    }\n",
              "\n",
              "    [theme=dark] .colab-df-convert:hover {\n",
              "      background-color: #434B5C;\n",
              "      box-shadow: 0px 1px 3px 1px rgba(0, 0, 0, 0.15);\n",
              "      filter: drop-shadow(0px 1px 2px rgba(0, 0, 0, 0.3));\n",
              "      fill: #FFFFFF;\n",
              "    }\n",
              "  </style>\n",
              "\n",
              "      <script>\n",
              "        const buttonEl =\n",
              "          document.querySelector('#df-9fa39a31-9acf-4353-a79d-d56b77a14369 button.colab-df-convert');\n",
              "        buttonEl.style.display =\n",
              "          google.colab.kernel.accessAllowed ? 'block' : 'none';\n",
              "\n",
              "        async function convertToInteractive(key) {\n",
              "          const element = document.querySelector('#df-9fa39a31-9acf-4353-a79d-d56b77a14369');\n",
              "          const dataTable =\n",
              "            await google.colab.kernel.invokeFunction('convertToInteractive',\n",
              "                                                     [key], {});\n",
              "          if (!dataTable) return;\n",
              "\n",
              "          const docLinkHtml = 'Like what you see? Visit the ' +\n",
              "            '<a target=\"_blank\" href=https://colab.research.google.com/notebooks/data_table.ipynb>data table notebook</a>'\n",
              "            + ' to learn more about interactive tables.';\n",
              "          element.innerHTML = '';\n",
              "          dataTable['output_type'] = 'display_data';\n",
              "          await google.colab.output.renderOutput(dataTable, element);\n",
              "          const docLink = document.createElement('div');\n",
              "          docLink.innerHTML = docLinkHtml;\n",
              "          element.appendChild(docLink);\n",
              "        }\n",
              "      </script>\n",
              "    </div>\n",
              "  </div>\n",
              "  "
            ]
          },
          "metadata": {},
          "execution_count": 185
        }
      ]
    },
    {
      "cell_type": "code",
      "source": [
        "sample_data = example_df.groupby('Name').mean()  #หยิบ data มา"
      ],
      "metadata": {
        "id": "dho6imsp8xiQ"
      },
      "execution_count": 186,
      "outputs": []
    },
    {
      "cell_type": "code",
      "source": [
        "sample_data #แสดงข้อมูลในรูปตาราง"
      ],
      "metadata": {
        "colab": {
          "base_uri": "https://localhost:8080/",
          "height": 175
        },
        "id": "Pl4Avzu7810P",
        "outputId": "1a694fcc-ebe3-4237-c499-be8607f2b6f3"
      },
      "execution_count": 187,
      "outputs": [
        {
          "output_type": "execute_result",
          "data": {
            "text/plain": [
              "                 SepalLength  SepalWidth  PetalLength  PetalWidth\n",
              "Name                                                             \n",
              "Iris-setosa            5.006       3.418        1.464       0.244\n",
              "Iris-versicolor        5.936       2.770        4.260       1.326\n",
              "Iris-virginica         6.588       2.974        5.552       2.026"
            ],
            "text/html": [
              "\n",
              "  <div id=\"df-361d73fb-786f-4a12-8870-1cdd3626f411\">\n",
              "    <div class=\"colab-df-container\">\n",
              "      <div>\n",
              "<style scoped>\n",
              "    .dataframe tbody tr th:only-of-type {\n",
              "        vertical-align: middle;\n",
              "    }\n",
              "\n",
              "    .dataframe tbody tr th {\n",
              "        vertical-align: top;\n",
              "    }\n",
              "\n",
              "    .dataframe thead th {\n",
              "        text-align: right;\n",
              "    }\n",
              "</style>\n",
              "<table border=\"1\" class=\"dataframe\">\n",
              "  <thead>\n",
              "    <tr style=\"text-align: right;\">\n",
              "      <th></th>\n",
              "      <th>SepalLength</th>\n",
              "      <th>SepalWidth</th>\n",
              "      <th>PetalLength</th>\n",
              "      <th>PetalWidth</th>\n",
              "    </tr>\n",
              "    <tr>\n",
              "      <th>Name</th>\n",
              "      <th></th>\n",
              "      <th></th>\n",
              "      <th></th>\n",
              "      <th></th>\n",
              "    </tr>\n",
              "  </thead>\n",
              "  <tbody>\n",
              "    <tr>\n",
              "      <th>Iris-setosa</th>\n",
              "      <td>5.006</td>\n",
              "      <td>3.418</td>\n",
              "      <td>1.464</td>\n",
              "      <td>0.244</td>\n",
              "    </tr>\n",
              "    <tr>\n",
              "      <th>Iris-versicolor</th>\n",
              "      <td>5.936</td>\n",
              "      <td>2.770</td>\n",
              "      <td>4.260</td>\n",
              "      <td>1.326</td>\n",
              "    </tr>\n",
              "    <tr>\n",
              "      <th>Iris-virginica</th>\n",
              "      <td>6.588</td>\n",
              "      <td>2.974</td>\n",
              "      <td>5.552</td>\n",
              "      <td>2.026</td>\n",
              "    </tr>\n",
              "  </tbody>\n",
              "</table>\n",
              "</div>\n",
              "      <button class=\"colab-df-convert\" onclick=\"convertToInteractive('df-361d73fb-786f-4a12-8870-1cdd3626f411')\"\n",
              "              title=\"Convert this dataframe to an interactive table.\"\n",
              "              style=\"display:none;\">\n",
              "        \n",
              "  <svg xmlns=\"http://www.w3.org/2000/svg\" height=\"24px\"viewBox=\"0 0 24 24\"\n",
              "       width=\"24px\">\n",
              "    <path d=\"M0 0h24v24H0V0z\" fill=\"none\"/>\n",
              "    <path d=\"M18.56 5.44l.94 2.06.94-2.06 2.06-.94-2.06-.94-.94-2.06-.94 2.06-2.06.94zm-11 1L8.5 8.5l.94-2.06 2.06-.94-2.06-.94L8.5 2.5l-.94 2.06-2.06.94zm10 10l.94 2.06.94-2.06 2.06-.94-2.06-.94-.94-2.06-.94 2.06-2.06.94z\"/><path d=\"M17.41 7.96l-1.37-1.37c-.4-.4-.92-.59-1.43-.59-.52 0-1.04.2-1.43.59L10.3 9.45l-7.72 7.72c-.78.78-.78 2.05 0 2.83L4 21.41c.39.39.9.59 1.41.59.51 0 1.02-.2 1.41-.59l7.78-7.78 2.81-2.81c.8-.78.8-2.07 0-2.86zM5.41 20L4 18.59l7.72-7.72 1.47 1.35L5.41 20z\"/>\n",
              "  </svg>\n",
              "      </button>\n",
              "      \n",
              "  <style>\n",
              "    .colab-df-container {\n",
              "      display:flex;\n",
              "      flex-wrap:wrap;\n",
              "      gap: 12px;\n",
              "    }\n",
              "\n",
              "    .colab-df-convert {\n",
              "      background-color: #E8F0FE;\n",
              "      border: none;\n",
              "      border-radius: 50%;\n",
              "      cursor: pointer;\n",
              "      display: none;\n",
              "      fill: #1967D2;\n",
              "      height: 32px;\n",
              "      padding: 0 0 0 0;\n",
              "      width: 32px;\n",
              "    }\n",
              "\n",
              "    .colab-df-convert:hover {\n",
              "      background-color: #E2EBFA;\n",
              "      box-shadow: 0px 1px 2px rgba(60, 64, 67, 0.3), 0px 1px 3px 1px rgba(60, 64, 67, 0.15);\n",
              "      fill: #174EA6;\n",
              "    }\n",
              "\n",
              "    [theme=dark] .colab-df-convert {\n",
              "      background-color: #3B4455;\n",
              "      fill: #D2E3FC;\n",
              "    }\n",
              "\n",
              "    [theme=dark] .colab-df-convert:hover {\n",
              "      background-color: #434B5C;\n",
              "      box-shadow: 0px 1px 3px 1px rgba(0, 0, 0, 0.15);\n",
              "      filter: drop-shadow(0px 1px 2px rgba(0, 0, 0, 0.3));\n",
              "      fill: #FFFFFF;\n",
              "    }\n",
              "  </style>\n",
              "\n",
              "      <script>\n",
              "        const buttonEl =\n",
              "          document.querySelector('#df-361d73fb-786f-4a12-8870-1cdd3626f411 button.colab-df-convert');\n",
              "        buttonEl.style.display =\n",
              "          google.colab.kernel.accessAllowed ? 'block' : 'none';\n",
              "\n",
              "        async function convertToInteractive(key) {\n",
              "          const element = document.querySelector('#df-361d73fb-786f-4a12-8870-1cdd3626f411');\n",
              "          const dataTable =\n",
              "            await google.colab.kernel.invokeFunction('convertToInteractive',\n",
              "                                                     [key], {});\n",
              "          if (!dataTable) return;\n",
              "\n",
              "          const docLinkHtml = 'Like what you see? Visit the ' +\n",
              "            '<a target=\"_blank\" href=https://colab.research.google.com/notebooks/data_table.ipynb>data table notebook</a>'\n",
              "            + ' to learn more about interactive tables.';\n",
              "          element.innerHTML = '';\n",
              "          dataTable['output_type'] = 'display_data';\n",
              "          await google.colab.output.renderOutput(dataTable, element);\n",
              "          const docLink = document.createElement('div');\n",
              "          docLink.innerHTML = docLinkHtml;\n",
              "          element.appendChild(docLink);\n",
              "        }\n",
              "      </script>\n",
              "    </div>\n",
              "  </div>\n",
              "  "
            ]
          },
          "metadata": {},
          "execution_count": 187
        }
      ]
    },
    {
      "cell_type": "code",
      "source": [
        "sample_data.iloc[0,:] #ดูข้อมูลว่ามีอะไรบ้าง"
      ],
      "metadata": {
        "colab": {
          "base_uri": "https://localhost:8080/"
        },
        "id": "Kk7hJ9wa83FP",
        "outputId": "5f70ca53-4c07-4d16-b640-ae13a8f58d97"
      },
      "execution_count": 188,
      "outputs": [
        {
          "output_type": "execute_result",
          "data": {
            "text/plain": [
              "SepalLength    5.006\n",
              "SepalWidth     3.418\n",
              "PetalLength    1.464\n",
              "PetalWidth     0.244\n",
              "Name: Iris-setosa, dtype: float64"
            ]
          },
          "metadata": {},
          "execution_count": 188
        }
      ]
    },
    {
      "cell_type": "code",
      "source": [
        "from matplotlib import pyplot as plt #import matplotlib"
      ],
      "metadata": {
        "id": "0a9BHBrZ84gX"
      },
      "execution_count": 189,
      "outputs": []
    },
    {
      "cell_type": "code",
      "source": [
        "plt.plot([1,2,3,4],sample_data.iloc[0,:],'ro') #พล็อตสีแดงเป็นวงกลม\n",
        "plt.plot([1,2,3,4],sample_data.iloc[1,:],'g*') #พล็อตสีเขียวเป็นรูปดาว\n",
        "plt.plot([1,2,3,4],sample_data.iloc[2,:],'b^') #พล็อตสีน้ำเงินเป็นสามเหลี่ยม"
      ],
      "metadata": {
        "colab": {
          "base_uri": "https://localhost:8080/",
          "height": 281
        },
        "id": "_6Es5hFT86Hm",
        "outputId": "dde6bd26-4f4c-4021-c099-c3bc7720d6c5"
      },
      "execution_count": 190,
      "outputs": [
        {
          "output_type": "execute_result",
          "data": {
            "text/plain": [
              "[<matplotlib.lines.Line2D at 0x7fc1b75c2510>]"
            ]
          },
          "metadata": {},
          "execution_count": 190
        },
        {
          "output_type": "display_data",
          "data": {
            "text/plain": [
              "<Figure size 432x288 with 1 Axes>"
            ],
            "image/png": "[encoded data removed]"
          },
          "metadata": {
            "needs_background": "light"
          }
        }
      ]
    },
    {
      "cell_type": "code",
      "source": [
        "plt.plot([1,2,3,4],sample_data.iloc[0,:],'ro-') #พล็อตสีแดงเป็นวงกลม #มีเส้นลากยาว \n",
        "plt.plot([1,2,3,4],sample_data.iloc[1,:],'g*-') #พล็อตสีเขียวเป็นรูปดาว #มีเส้นลากยาว\n",
        "plt.plot([1,2,3,4],sample_data.iloc[2,:],'b^-') #พล็อตสีน้ำเงินเป็นสามเหลี่ยม #มีเส้นลากยาว"
      ],
      "metadata": {
        "colab": {
          "base_uri": "https://localhost:8080/",
          "height": 281
        },
        "id": "AgTztawy9DUf",
        "outputId": "fb4f9119-e0a4-4a96-dcd5-4dac52eb5380"
      },
      "execution_count": 191,
      "outputs": [
        {
          "output_type": "execute_result",
          "data": {
            "text/plain": [
              "[<matplotlib.lines.Line2D at 0x7fc1b7530a90>]"
            ]
          },
          "metadata": {},
          "execution_count": 191
        },
        {
          "output_type": "display_data",
          "data": {
            "text/plain": [
              "<Figure size 432x288 with 1 Axes>"
            ],
            "image/png": "[encoded data removed]"
          },
          "metadata": {
            "needs_background": "light"
          }
        }
      ]
    },
    {
      "cell_type": "code",
      "source": [
        "plt.plot([1,1],[min(sample_data.iloc[:,0]),max(sample_data.iloc[:,0])],'c:') #ค่า x เป็น1  y คือ 1\n",
        "plt.plot([2,2],[min(sample_data.iloc[:,1]),max(sample_data.iloc[:,1])],'c:')\n",
        "plt.plot([3,3],[min(sample_data.iloc[:,2]),max(sample_data.iloc[:,2])],'c:')\n",
        "plt.plot([4,4],[min(sample_data.iloc[:,3]),max(sample_data.iloc[:,3])],'c:')\n",
        "\n",
        "plt.plot([1,2,3,4],sample_data.iloc[0,:],'ro') #พล็อตสีแดงเป็นวงกลม #มีเส้นลากยาว \n",
        "plt.plot([1,2,3,4],sample_data.iloc[1,:],'g*') #พล็อตสีเขียวเป็นรูปดาว #มีเส้นลากยาว\n",
        "plt.plot([1,2,3,4],sample_data.iloc[2,:],'b^') #พล็อตสีน้ำเงินเป็นสามเหลี่ยม #มีเส้นลากยาว"
      ],
      "metadata": {
        "colab": {
          "base_uri": "https://localhost:8080/",
          "height": 281
        },
        "id": "wn0KiKSJ9QFy",
        "outputId": "63fcad7e-dbed-4623-e691-21a4fa9d457b"
      },
      "execution_count": 192,
      "outputs": [
        {
          "output_type": "execute_result",
          "data": {
            "text/plain": [
              "[<matplotlib.lines.Line2D at 0x7fc1b781f510>]"
            ]
          },
          "metadata": {},
          "execution_count": 192
        },
        {
          "output_type": "display_data",
          "data": {
            "text/plain": [
              "<Figure size 432x288 with 1 Axes>"
            ],
            "image/png": "[encoded data removed]"
          },
          "metadata": {
            "needs_background": "light"
          }
        }
      ]
    },
    {
      "cell_type": "markdown",
      "source": [
        "## การใช้ plt.plot\n",
        "`plt.plot`(`พิกัดแกน X`, `พิกัดแกน Y`, `ลักษณะของ marker + เส้นเชื่อม`)\n",
        "\n",
        "marker -> 'cML'"
      ],
      "metadata": {
        "id": "PN4ylnqWEo0A"
      }
    },
    {
      "cell_type": "code",
      "source": [
        "plt.plot([1],[2],'ro') #พล็อตวงกลมสีแดง ค่าแกน X เป็น 1 แกน Y เป็น 2  "
      ],
      "metadata": {
        "colab": {
          "base_uri": "https://localhost:8080/",
          "height": 281
        },
        "id": "18Md4pxz94mA",
        "outputId": "82b2dae4-f5c6-4b27-dd39-9436d1d463a7"
      },
      "execution_count": 193,
      "outputs": [
        {
          "output_type": "execute_result",
          "data": {
            "text/plain": [
              "[<matplotlib.lines.Line2D at 0x7fc1b7a2f750>]"
            ]
          },
          "metadata": {},
          "execution_count": 193
        },
        {
          "output_type": "display_data",
          "data": {
            "text/plain": [
              "<Figure size 432x288 with 1 Axes>"
            ],
            "image/png": "[encoded data removed]"
          },
          "metadata": {
            "needs_background": "light"
          }
        }
      ]
    },
    {
      "cell_type": "code",
      "source": [
        "plt.plot([1,2],[2,4],'ro') #พล็อตวงกลมสีแดง 2 จุดคือ ค่าแกน X เป็น 1 แกน Y เป็น 2  และ แกน x เป็น 2 ค่าแกน y เป็น 4"
      ],
      "metadata": {
        "colab": {
          "base_uri": "https://localhost:8080/",
          "height": 281
        },
        "id": "SqsCcTfBEq07",
        "outputId": "05a6d333-1fc1-4c3b-ad43-99ef2989f908"
      },
      "execution_count": 194,
      "outputs": [
        {
          "output_type": "execute_result",
          "data": {
            "text/plain": [
              "[<matplotlib.lines.Line2D at 0x7fc1bd301810>]"
            ]
          },
          "metadata": {},
          "execution_count": 194
        },
        {
          "output_type": "display_data",
          "data": {
            "text/plain": [
              "<Figure size 432x288 with 1 Axes>"
            ],
            "image/png": "[encoded data removed]"
          },
          "metadata": {
            "needs_background": "light"
          }
        }
      ]
    },
    {
      "cell_type": "code",
      "source": [
        "plt.plot([1,2],[2,4],'ro-.') #ถ้ามี . จะเป็นเส้นจะจุด ๆ "
      ],
      "metadata": {
        "colab": {
          "base_uri": "https://localhost:8080/",
          "height": 281
        },
        "id": "3qUplb2LEtHB",
        "outputId": "5398c866-5830-4325-dcb9-da433908f527"
      },
      "execution_count": 195,
      "outputs": [
        {
          "output_type": "execute_result",
          "data": {
            "text/plain": [
              "[<matplotlib.lines.Line2D at 0x7fc1b7ac01d0>]"
            ]
          },
          "metadata": {},
          "execution_count": 195
        },
        {
          "output_type": "display_data",
          "data": {
            "text/plain": [
              "<Figure size 432x288 with 1 Axes>"
            ],
            "image/png": "[encoded data removed]"
          },
          "metadata": {
            "needs_background": "light"
          }
        }
      ]
    },
    {
      "cell_type": "code",
      "source": [
        "plt.plot([1,1],[min(sample_data.iloc[:,0]),max(sample_data.iloc[:,0])],'c:') \n",
        "plt.plot([2,2],[min(sample_data.iloc[:,1]),max(sample_data.iloc[:,1])],'c:')\n",
        "plt.plot([3,3],[min(sample_data.iloc[:,2]),max(sample_data.iloc[:,2])],'c:')\n",
        "plt.plot([4,4],[min(sample_data.iloc[:,3]),max(sample_data.iloc[:,3])],'c:')\n",
        "\n",
        "plt.plot([1,2,3,4],sample_data.iloc[0,:],'ro',label='Setosa') #พล็อตสีแดงเป็นวงกลม #มีเส้นลากยาว  เส้นชื่อว่า Setosa\n",
        "plt.plot([1,2,3,4],sample_data.iloc[1,:],'g*',label='Versicolor') #พล็อตสีเขียวเป็นรูปดาว #มีเส้นลากยาว เส้นชื่อว่า  Versicolor\n",
        "plt.plot([1,2,3,4],sample_data.iloc[2,:],'b^',label='Virginica') #พล็อตสีน้ำเงินเป็นสามเหลี่ยม #มีเส้นลากยาว เส้นชื่อว่า Virginica\n",
        "plt.legend()"
      ],
      "metadata": {
        "colab": {
          "base_uri": "https://localhost:8080/",
          "height": 281
        },
        "id": "omb5pSknEuiR",
        "outputId": "a5658dd6-4d5b-409a-c7e9-31c87ded42c2"
      },
      "execution_count": 196,
      "outputs": [
        {
          "output_type": "execute_result",
          "data": {
            "text/plain": [
              "<matplotlib.legend.Legend at 0x7fc1b7bd3c50>"
            ]
          },
          "metadata": {},
          "execution_count": 196
        },
        {
          "output_type": "display_data",
          "data": {
            "text/plain": [
              "<Figure size 432x288 with 1 Axes>"
            ],
            "image/png": "[encoded data removed]"
          },
          "metadata": {
            "needs_background": "light"
          }
        }
      ]
    },
    {
      "cell_type": "code",
      "source": [
        "example_df.iloc[:,:-1].columns.tolist() #เรียกดูหัวข้อ"
      ],
      "metadata": {
        "colab": {
          "base_uri": "https://localhost:8080/"
        },
        "id": "WcH1Mi8dEv7Q",
        "outputId": "ed261076-5011-4f43-8fef-9e8140df7276"
      },
      "execution_count": 197,
      "outputs": [
        {
          "output_type": "execute_result",
          "data": {
            "text/plain": [
              "['SepalLength', 'SepalWidth', 'PetalLength', 'PetalWidth']"
            ]
          },
          "metadata": {},
          "execution_count": 197
        }
      ]
    },
    {
      "cell_type": "code",
      "source": [
        "plt.plot([1,1],[min(sample_data.iloc[:,0]),max(sample_data.iloc[:,0])],'c:')\n",
        "plt.plot([2,2],[min(sample_data.iloc[:,1]),max(sample_data.iloc[:,1])],'c:')\n",
        "plt.plot([3,3],[min(sample_data.iloc[:,2]),max(sample_data.iloc[:,2])],'c:')\n",
        "plt.plot([4,4],[min(sample_data.iloc[:,3]),max(sample_data.iloc[:,3])],'c:')\n",
        "\n",
        "plt.plot([1,2,3,4],sample_data.iloc[0,:],'ro',label='Setosa')\n",
        "plt.plot([1,2,3,4],sample_data.iloc[1,:],'g*',label='Versicolor')\n",
        "plt.plot([1,2,3,4],sample_data.iloc[2,:],'b^',label='Virginica')\n",
        "plt.legend()\n",
        "plt.xticks([1,2,3,4], example_df.iloc[:,:-1].columns.tolist(), rotation='vertical')"
      ],
      "metadata": {
        "colab": {
          "base_uri": "https://localhost:8080/",
          "height": 451
        },
        "id": "h7I6p49gExcZ",
        "outputId": "9e281deb-74a1-4859-8e2a-b75b760275b2"
      },
      "execution_count": 198,
      "outputs": [
        {
          "output_type": "execute_result",
          "data": {
            "text/plain": [
              "([<matplotlib.axis.XTick at 0x7fc1b7b27d50>,\n",
              "  <matplotlib.axis.XTick at 0x7fc1b7b278d0>,\n",
              "  <matplotlib.axis.XTick at 0x7fc1b7b277d0>,\n",
              "  <matplotlib.axis.XTick at 0x7fc1b77a8d10>],\n",
              " [Text(0, 0, 'SepalLength'),\n",
              "  Text(0, 0, 'SepalWidth'),\n",
              "  Text(0, 0, 'PetalLength'),\n",
              "  Text(0, 0, 'PetalWidth')])"
            ]
          },
          "metadata": {},
          "execution_count": 198
        },
        {
          "output_type": "display_data",
          "data": {
            "text/plain": [
              "<Figure size 432x288 with 1 Axes>"
            ],
            "image/png": "[encoded data removed]"
          },
          "metadata": {
            "needs_background": "light"
          }
        }
      ]
    },
    {
      "cell_type": "code",
      "source": [
        "plt.plot([1,1],[min(sample_data.iloc[:,0]),max(sample_data.iloc[:,0])],'c:')\n",
        "plt.plot([2,2],[min(sample_data.iloc[:,1]),max(sample_data.iloc[:,1])],'c:')\n",
        "plt.plot([3,3],[min(sample_data.iloc[:,2]),max(sample_data.iloc[:,2])],'c:')\n",
        "plt.plot([4,4],[min(sample_data.iloc[:,3]),max(sample_data.iloc[:,3])],'c:')\n",
        "\n",
        "plt.plot([1,2,3,4],sample_data.iloc[0,:],'ro',label='Setosa')\n",
        "plt.plot([1,2,3,4],sample_data.iloc[1,:],'g*',label='Versicolor')\n",
        "plt.plot([1,2,3,4],sample_data.iloc[2,:],'b^',label='Virginica')\n",
        "plt.legend()\n",
        "plt.xticks([1,2,3,4], example_df.iloc[:,:-1].columns.tolist(), rotation='vertical')\n",
        "plt.title('Features comparison between 3 different Iris flowers'); #ชื่อกราฟ"
      ],
      "metadata": {
        "colab": {
          "base_uri": "https://localhost:8080/",
          "height": 328
        },
        "id": "9fToG7FqEzIY",
        "outputId": "2b741b84-0d5a-407b-9257-376cfa4bf2e9"
      },
      "execution_count": 199,
      "outputs": [
        {
          "output_type": "display_data",
          "data": {
            "text/plain": [
              "<Figure size 432x288 with 1 Axes>"
            ],
            "image/png": "[encoded data removed]"
          },
          "metadata": {
            "needs_background": "light"
          }
        }
      ]
    },
    {
      "cell_type": "code",
      "source": [
        "plt.plot([1,1],[min(sample_data.iloc[:,0]),max(sample_data.iloc[:,0])],'c:')\n",
        "plt.plot([2,2],[min(sample_data.iloc[:,1]),max(sample_data.iloc[:,1])],'c:')\n",
        "plt.plot([3,3],[min(sample_data.iloc[:,2]),max(sample_data.iloc[:,2])],'c:')\n",
        "plt.plot([4,4],[min(sample_data.iloc[:,3]),max(sample_data.iloc[:,3])],'c:')\n",
        "\n",
        "plt.plot([1,2,3,4],sample_data.iloc[0,:],'ro',label='Setosa')\n",
        "plt.plot([1,2,3,4],sample_data.iloc[1,:],'g*',label='Versicolor')\n",
        "plt.plot([1,2,3,4],sample_data.iloc[2,:],'b^',label='Virginica')\n",
        "\n",
        "plt.legend()\n",
        "plt.xticks([1,2,3,4], example_df.iloc[:,:-1].columns.tolist(), rotation='vertical') #ชื่อแกน x\n",
        "plt.title('Features comparison between 3 different Iris flowers') #ชื่อกราฟ\n",
        "plt.ylabel('size (cm)'); #ชื่อแกน y"
      ],
      "metadata": {
        "colab": {
          "base_uri": "https://localhost:8080/",
          "height": 328
        },
        "id": "AM7pBDAHE0mQ",
        "outputId": "b64a02ba-3320-43d0-d348-4dbd912ae579"
      },
      "execution_count": 200,
      "outputs": [
        {
          "output_type": "display_data",
          "data": {
            "text/plain": [
              "<Figure size 432x288 with 1 Axes>"
            ],
            "image/png": "[encoded data removed]"
          },
          "metadata": {
            "needs_background": "light"
          }
        }
      ]
    },
    {
      "cell_type": "markdown",
      "source": [
        "# HW 6  วาดรูป ก้อนเมฆ และ ฝน ด้วย plt.plot"
      ],
      "metadata": {
        "id": "btpJnLFiE3_Z"
      }
    },
    {
      "cell_type": "code",
      "source": [
        "#ฝน\n",
        "\n",
        "plt.plot([2,2.5],[4,1],'-')\n",
        "\n",
        "plt.plot([3,3.5],[4.2,1],'-')\n",
        "\n",
        "plt.plot([4,4.5],[4.2,1],'-')\n",
        "\n",
        "plt.plot([5,5.5],[4.3,1],'-')\n",
        "\n",
        "plt.plot([6,6.5],[3.8,1],'-')\n",
        "\n",
        "\n",
        "#ก้อนเมฆ\n",
        "plt.plot([2,2.5,5,6,7],[5.5,4.5,4.7,4.5,6],'c-')\n",
        "plt.plot([2,2.5,3,4.5,5,7],[5.5,6,6.5,7,6.8,6],'c-')"
      ],
      "metadata": {
        "colab": {
          "base_uri": "https://localhost:8080/",
          "height": 0
        },
        "id": "4Ou9RQ9anrLK",
        "outputId": "4bffd05a-04e8-411a-cbdf-e448cecb4017"
      },
      "execution_count": 201,
      "outputs": [
        {
          "output_type": "execute_result",
          "data": {
            "text/plain": [
              "[<matplotlib.lines.Line2D at 0x7fc1ba592c10>]"
            ]
          },
          "metadata": {},
          "execution_count": 201
        },
        {
          "output_type": "display_data",
          "data": {
            "text/plain": [
              "<Figure size 432x288 with 1 Axes>"
            ],
            "image/png": "[encoded data removed]"
          },
          "metadata": {
            "needs_background": "light"
          }
        }
      ]
    },
    {
      "cell_type": "markdown",
      "source": [
        " # Bar chart"
      ],
      "metadata": {
        "id": "hHzUD2ML_dbJ"
      }
    },
    {
      "cell_type": "code",
      "source": [
        "sample_data #แสดงข้อมูลตาราง"
      ],
      "metadata": {
        "id": "28MM2ilW_ehI",
        "outputId": "7ada51c3-e717-472e-de96-e7fef1564b55",
        "colab": {
          "base_uri": "https://localhost:8080/",
          "height": 0
        }
      },
      "execution_count": 202,
      "outputs": [
        {
          "output_type": "execute_result",
          "data": {
            "text/plain": [
              "                 SepalLength  SepalWidth  PetalLength  PetalWidth\n",
              "Name                                                             \n",
              "Iris-setosa            5.006       3.418        1.464       0.244\n",
              "Iris-versicolor        5.936       2.770        4.260       1.326\n",
              "Iris-virginica         6.588       2.974        5.552       2.026"
            ],
            "text/html": [
              "\n",
              "  <div id=\"df-dbce6501-38ea-48ff-a61a-40f35a25c8fe\">\n",
              "    <div class=\"colab-df-container\">\n",
              "      <div>\n",
              "<style scoped>\n",
              "    .dataframe tbody tr th:only-of-type {\n",
              "        vertical-align: middle;\n",
              "    }\n",
              "\n",
              "    .dataframe tbody tr th {\n",
              "        vertical-align: top;\n",
              "    }\n",
              "\n",
              "    .dataframe thead th {\n",
              "        text-align: right;\n",
              "    }\n",
              "</style>\n",
              "<table border=\"1\" class=\"dataframe\">\n",
              "  <thead>\n",
              "    <tr style=\"text-align: right;\">\n",
              "      <th></th>\n",
              "      <th>SepalLength</th>\n",
              "      <th>SepalWidth</th>\n",
              "      <th>PetalLength</th>\n",
              "      <th>PetalWidth</th>\n",
              "    </tr>\n",
              "    <tr>\n",
              "      <th>Name</th>\n",
              "      <th></th>\n",
              "      <th></th>\n",
              "      <th></th>\n",
              "      <th></th>\n",
              "    </tr>\n",
              "  </thead>\n",
              "  <tbody>\n",
              "    <tr>\n",
              "      <th>Iris-setosa</th>\n",
              "      <td>5.006</td>\n",
              "      <td>3.418</td>\n",
              "      <td>1.464</td>\n",
              "      <td>0.244</td>\n",
              "    </tr>\n",
              "    <tr>\n",
              "      <th>Iris-versicolor</th>\n",
              "      <td>5.936</td>\n",
              "      <td>2.770</td>\n",
              "      <td>4.260</td>\n",
              "      <td>1.326</td>\n",
              "    </tr>\n",
              "    <tr>\n",
              "      <th>Iris-virginica</th>\n",
              "      <td>6.588</td>\n",
              "      <td>2.974</td>\n",
              "      <td>5.552</td>\n",
              "      <td>2.026</td>\n",
              "    </tr>\n",
              "  </tbody>\n",
              "</table>\n",
              "</div>\n",
              "      <button class=\"colab-df-convert\" onclick=\"convertToInteractive('df-dbce6501-38ea-48ff-a61a-40f35a25c8fe')\"\n",
              "              title=\"Convert this dataframe to an interactive table.\"\n",
              "              style=\"display:none;\">\n",
              "        \n",
              "  <svg xmlns=\"http://www.w3.org/2000/svg\" height=\"24px\"viewBox=\"0 0 24 24\"\n",
              "       width=\"24px\">\n",
              "    <path d=\"M0 0h24v24H0V0z\" fill=\"none\"/>\n",
              "    <path d=\"M18.56 5.44l.94 2.06.94-2.06 2.06-.94-2.06-.94-.94-2.06-.94 2.06-2.06.94zm-11 1L8.5 8.5l.94-2.06 2.06-.94-2.06-.94L8.5 2.5l-.94 2.06-2.06.94zm10 10l.94 2.06.94-2.06 2.06-.94-2.06-.94-.94-2.06-.94 2.06-2.06.94z\"/><path d=\"M17.41 7.96l-1.37-1.37c-.4-.4-.92-.59-1.43-.59-.52 0-1.04.2-1.43.59L10.3 9.45l-7.72 7.72c-.78.78-.78 2.05 0 2.83L4 21.41c.39.39.9.59 1.41.59.51 0 1.02-.2 1.41-.59l7.78-7.78 2.81-2.81c.8-.78.8-2.07 0-2.86zM5.41 20L4 18.59l7.72-7.72 1.47 1.35L5.41 20z\"/>\n",
              "  </svg>\n",
              "      </button>\n",
              "      \n",
              "  <style>\n",
              "    .colab-df-container {\n",
              "      display:flex;\n",
              "      flex-wrap:wrap;\n",
              "      gap: 12px;\n",
              "    }\n",
              "\n",
              "    .colab-df-convert {\n",
              "      background-color: #E8F0FE;\n",
              "      border: none;\n",
              "      border-radius: 50%;\n",
              "      cursor: pointer;\n",
              "      display: none;\n",
              "      fill: #1967D2;\n",
              "      height: 32px;\n",
              "      padding: 0 0 0 0;\n",
              "      width: 32px;\n",
              "    }\n",
              "\n",
              "    .colab-df-convert:hover {\n",
              "      background-color: #E2EBFA;\n",
              "      box-shadow: 0px 1px 2px rgba(60, 64, 67, 0.3), 0px 1px 3px 1px rgba(60, 64, 67, 0.15);\n",
              "      fill: #174EA6;\n",
              "    }\n",
              "\n",
              "    [theme=dark] .colab-df-convert {\n",
              "      background-color: #3B4455;\n",
              "      fill: #D2E3FC;\n",
              "    }\n",
              "\n",
              "    [theme=dark] .colab-df-convert:hover {\n",
              "      background-color: #434B5C;\n",
              "      box-shadow: 0px 1px 3px 1px rgba(0, 0, 0, 0.15);\n",
              "      filter: drop-shadow(0px 1px 2px rgba(0, 0, 0, 0.3));\n",
              "      fill: #FFFFFF;\n",
              "    }\n",
              "  </style>\n",
              "\n",
              "      <script>\n",
              "        const buttonEl =\n",
              "          document.querySelector('#df-dbce6501-38ea-48ff-a61a-40f35a25c8fe button.colab-df-convert');\n",
              "        buttonEl.style.display =\n",
              "          google.colab.kernel.accessAllowed ? 'block' : 'none';\n",
              "\n",
              "        async function convertToInteractive(key) {\n",
              "          const element = document.querySelector('#df-dbce6501-38ea-48ff-a61a-40f35a25c8fe');\n",
              "          const dataTable =\n",
              "            await google.colab.kernel.invokeFunction('convertToInteractive',\n",
              "                                                     [key], {});\n",
              "          if (!dataTable) return;\n",
              "\n",
              "          const docLinkHtml = 'Like what you see? Visit the ' +\n",
              "            '<a target=\"_blank\" href=https://colab.research.google.com/notebooks/data_table.ipynb>data table notebook</a>'\n",
              "            + ' to learn more about interactive tables.';\n",
              "          element.innerHTML = '';\n",
              "          dataTable['output_type'] = 'display_data';\n",
              "          await google.colab.output.renderOutput(dataTable, element);\n",
              "          const docLink = document.createElement('div');\n",
              "          docLink.innerHTML = docLinkHtml;\n",
              "          element.appendChild(docLink);\n",
              "        }\n",
              "      </script>\n",
              "    </div>\n",
              "  </div>\n",
              "  "
            ]
          },
          "metadata": {},
          "execution_count": 202
        }
      ]
    },
    {
      "cell_type": "code",
      "source": [
        "sample_data['PetalLength'] #ดูข้อมูลคอลลัมม์ของ PetalLength"
      ],
      "metadata": {
        "id": "kkOSUUrr_fzo",
        "outputId": "85442bc0-2bee-4e1a-d591-37409e2f0bc8",
        "colab": {
          "base_uri": "https://localhost:8080/"
        }
      },
      "execution_count": 203,
      "outputs": [
        {
          "output_type": "execute_result",
          "data": {
            "text/plain": [
              "Name\n",
              "Iris-setosa        1.464\n",
              "Iris-versicolor    4.260\n",
              "Iris-virginica     5.552\n",
              "Name: PetalLength, dtype: float64"
            ]
          },
          "metadata": {},
          "execution_count": 203
        }
      ]
    },
    {
      "cell_type": "code",
      "source": [
        "sample_data['PetalLength'][0] #ตัวแรก"
      ],
      "metadata": {
        "id": "oP2_kxnR_hb-",
        "outputId": "d69f8c79-cfb6-4220-a99f-b0d8f44f580e",
        "colab": {
          "base_uri": "https://localhost:8080/"
        }
      },
      "execution_count": 204,
      "outputs": [
        {
          "output_type": "execute_result",
          "data": {
            "text/plain": [
              "1.464"
            ]
          },
          "metadata": {},
          "execution_count": 204
        }
      ]
    },
    {
      "cell_type": "markdown",
      "source": [
        "### เปรียบเทียบปริมาณ 1 ปริมาณของ object หลาย class"
      ],
      "metadata": {
        "id": "tLm7P8i5_lXO"
      }
    },
    {
      "cell_type": "code",
      "source": [
        "plt.bar([1,2,3],sample_data['PetalLength']) #เปรียบเทียบกราฟ 3 แท่ง"
      ],
      "metadata": {
        "id": "8lSlf72s_i7f",
        "outputId": "e43e951d-9f6b-4ef8-9989-a363b8311863",
        "colab": {
          "base_uri": "https://localhost:8080/",
          "height": 0
        }
      },
      "execution_count": 205,
      "outputs": [
        {
          "output_type": "execute_result",
          "data": {
            "text/plain": [
              "<BarContainer object of 3 artists>"
            ]
          },
          "metadata": {},
          "execution_count": 205
        },
        {
          "output_type": "display_data",
          "data": {
            "text/plain": [
              "<Figure size 432x288 with 1 Axes>"
            ],
            "image/png": "[encoded data removed]"
          },
          "metadata": {
            "needs_background": "light"
          }
        }
      ]
    },
    {
      "cell_type": "code",
      "source": [
        "sample_data.reset_index() #แสดงข้อมูลในรูปแบบตาราง"
      ],
      "metadata": {
        "id": "YLPnSJwM_lJH",
        "outputId": "1e612b47-362d-4a81-8575-abf6804744ea",
        "colab": {
          "base_uri": "https://localhost:8080/",
          "height": 0
        }
      },
      "execution_count": 206,
      "outputs": [
        {
          "output_type": "execute_result",
          "data": {
            "text/plain": [
              "              Name  SepalLength  SepalWidth  PetalLength  PetalWidth\n",
              "0      Iris-setosa        5.006       3.418        1.464       0.244\n",
              "1  Iris-versicolor        5.936       2.770        4.260       1.326\n",
              "2   Iris-virginica        6.588       2.974        5.552       2.026"
            ],
            "text/html": [
              "\n",
              "  <div id=\"df-262759fb-714a-418d-a084-549db1b1cb2f\">\n",
              "    <div class=\"colab-df-container\">\n",
              "      <div>\n",
              "<style scoped>\n",
              "    .dataframe tbody tr th:only-of-type {\n",
              "        vertical-align: middle;\n",
              "    }\n",
              "\n",
              "    .dataframe tbody tr th {\n",
              "        vertical-align: top;\n",
              "    }\n",
              "\n",
              "    .dataframe thead th {\n",
              "        text-align: right;\n",
              "    }\n",
              "</style>\n",
              "<table border=\"1\" class=\"dataframe\">\n",
              "  <thead>\n",
              "    <tr style=\"text-align: right;\">\n",
              "      <th></th>\n",
              "      <th>Name</th>\n",
              "      <th>SepalLength</th>\n",
              "      <th>SepalWidth</th>\n",
              "      <th>PetalLength</th>\n",
              "      <th>PetalWidth</th>\n",
              "    </tr>\n",
              "  </thead>\n",
              "  <tbody>\n",
              "    <tr>\n",
              "      <th>0</th>\n",
              "      <td>Iris-setosa</td>\n",
              "      <td>5.006</td>\n",
              "      <td>3.418</td>\n",
              "      <td>1.464</td>\n",
              "      <td>0.244</td>\n",
              "    </tr>\n",
              "    <tr>\n",
              "      <th>1</th>\n",
              "      <td>Iris-versicolor</td>\n",
              "      <td>5.936</td>\n",
              "      <td>2.770</td>\n",
              "      <td>4.260</td>\n",
              "      <td>1.326</td>\n",
              "    </tr>\n",
              "    <tr>\n",
              "      <th>2</th>\n",
              "      <td>Iris-virginica</td>\n",
              "      <td>6.588</td>\n",
              "      <td>2.974</td>\n",
              "      <td>5.552</td>\n",
              "      <td>2.026</td>\n",
              "    </tr>\n",
              "  </tbody>\n",
              "</table>\n",
              "</div>\n",
              "      <button class=\"colab-df-convert\" onclick=\"convertToInteractive('df-262759fb-714a-418d-a084-549db1b1cb2f')\"\n",
              "              title=\"Convert this dataframe to an interactive table.\"\n",
              "              style=\"display:none;\">\n",
              "        \n",
              "  <svg xmlns=\"http://www.w3.org/2000/svg\" height=\"24px\"viewBox=\"0 0 24 24\"\n",
              "       width=\"24px\">\n",
              "    <path d=\"M0 0h24v24H0V0z\" fill=\"none\"/>\n",
              "    <path d=\"M18.56 5.44l.94 2.06.94-2.06 2.06-.94-2.06-.94-.94-2.06-.94 2.06-2.06.94zm-11 1L8.5 8.5l.94-2.06 2.06-.94-2.06-.94L8.5 2.5l-.94 2.06-2.06.94zm10 10l.94 2.06.94-2.06 2.06-.94-2.06-.94-.94-2.06-.94 2.06-2.06.94z\"/><path d=\"M17.41 7.96l-1.37-1.37c-.4-.4-.92-.59-1.43-.59-.52 0-1.04.2-1.43.59L10.3 9.45l-7.72 7.72c-.78.78-.78 2.05 0 2.83L4 21.41c.39.39.9.59 1.41.59.51 0 1.02-.2 1.41-.59l7.78-7.78 2.81-2.81c.8-.78.8-2.07 0-2.86zM5.41 20L4 18.59l7.72-7.72 1.47 1.35L5.41 20z\"/>\n",
              "  </svg>\n",
              "      </button>\n",
              "      \n",
              "  <style>\n",
              "    .colab-df-container {\n",
              "      display:flex;\n",
              "      flex-wrap:wrap;\n",
              "      gap: 12px;\n",
              "    }\n",
              "\n",
              "    .colab-df-convert {\n",
              "      background-color: #E8F0FE;\n",
              "      border: none;\n",
              "      border-radius: 50%;\n",
              "      cursor: pointer;\n",
              "      display: none;\n",
              "      fill: #1967D2;\n",
              "      height: 32px;\n",
              "      padding: 0 0 0 0;\n",
              "      width: 32px;\n",
              "    }\n",
              "\n",
              "    .colab-df-convert:hover {\n",
              "      background-color: #E2EBFA;\n",
              "      box-shadow: 0px 1px 2px rgba(60, 64, 67, 0.3), 0px 1px 3px 1px rgba(60, 64, 67, 0.15);\n",
              "      fill: #174EA6;\n",
              "    }\n",
              "\n",
              "    [theme=dark] .colab-df-convert {\n",
              "      background-color: #3B4455;\n",
              "      fill: #D2E3FC;\n",
              "    }\n",
              "\n",
              "    [theme=dark] .colab-df-convert:hover {\n",
              "      background-color: #434B5C;\n",
              "      box-shadow: 0px 1px 3px 1px rgba(0, 0, 0, 0.15);\n",
              "      filter: drop-shadow(0px 1px 2px rgba(0, 0, 0, 0.3));\n",
              "      fill: #FFFFFF;\n",
              "    }\n",
              "  </style>\n",
              "\n",
              "      <script>\n",
              "        const buttonEl =\n",
              "          document.querySelector('#df-262759fb-714a-418d-a084-549db1b1cb2f button.colab-df-convert');\n",
              "        buttonEl.style.display =\n",
              "          google.colab.kernel.accessAllowed ? 'block' : 'none';\n",
              "\n",
              "        async function convertToInteractive(key) {\n",
              "          const element = document.querySelector('#df-262759fb-714a-418d-a084-549db1b1cb2f');\n",
              "          const dataTable =\n",
              "            await google.colab.kernel.invokeFunction('convertToInteractive',\n",
              "                                                     [key], {});\n",
              "          if (!dataTable) return;\n",
              "\n",
              "          const docLinkHtml = 'Like what you see? Visit the ' +\n",
              "            '<a target=\"_blank\" href=https://colab.research.google.com/notebooks/data_table.ipynb>data table notebook</a>'\n",
              "            + ' to learn more about interactive tables.';\n",
              "          element.innerHTML = '';\n",
              "          dataTable['output_type'] = 'display_data';\n",
              "          await google.colab.output.renderOutput(dataTable, element);\n",
              "          const docLink = document.createElement('div');\n",
              "          docLink.innerHTML = docLinkHtml;\n",
              "          element.appendChild(docLink);\n",
              "        }\n",
              "      </script>\n",
              "    </div>\n",
              "  </div>\n",
              "  "
            ]
          },
          "metadata": {},
          "execution_count": 206
        }
      ]
    },
    {
      "cell_type": "code",
      "source": [
        "sample_data.reset_index()['Name'] #ลบช่องที่ว่าง"
      ],
      "metadata": {
        "id": "laytBUpo_lG5",
        "outputId": "9c76f177-79ce-46e9-e364-a9325d5497c8",
        "colab": {
          "base_uri": "https://localhost:8080/"
        }
      },
      "execution_count": 207,
      "outputs": [
        {
          "output_type": "execute_result",
          "data": {
            "text/plain": [
              "0        Iris-setosa\n",
              "1    Iris-versicolor\n",
              "2     Iris-virginica\n",
              "Name: Name, dtype: object"
            ]
          },
          "metadata": {},
          "execution_count": 207
        }
      ]
    },
    {
      "cell_type": "code",
      "source": [
        "plt.bar([1,2,3],sample_data['PetalLength']) #กราฟ 3 แท่ง \n",
        "plt.xticks([1,2,3], sample_data.reset_index()['Name'], rotation='vertical') #ใส่ชื่อแกน x\n",
        "plt.title('Comparison between average petal length of 3 iris flowers') #ชื่อกราฟ\n",
        "plt.ylabel('size (cm)'); #ชื่อแกน y"
      ],
      "metadata": {
        "id": "xZ-kbw1C_lEn",
        "outputId": "1751f13b-b4f2-425d-f3aa-eac245e9acaa",
        "colab": {
          "base_uri": "https://localhost:8080/",
          "height": 0
        }
      },
      "execution_count": 208,
      "outputs": [
        {
          "output_type": "display_data",
          "data": {
            "text/plain": [
              "<Figure size 432x288 with 1 Axes>"
            ],
            "image/png": "[encoded data removed]"
          },
          "metadata": {
            "needs_background": "light"
          }
        }
      ]
    },
    {
      "cell_type": "code",
      "source": [
        "plt.bar([1,2,3],sample_data['PetalLength']) #กราฟ 3 แท่ง \n",
        "plt.xticks([1,2,3], sample_data.reset_index()['Name'], rotation='vertical') #ใส่ชื่อแกน x\n",
        "plt.title('Comparison between average petal length of 3 iris flowers')  #ชื่อกราฟ\n",
        "plt.grid(True,axis='y') #ใส่เพื่อเป็นเส้นลากในกราฟ\n",
        "plt.ylabel('size (cm)'); #ชื่อแกน y"
      ],
      "metadata": {
        "id": "3NsmxlC0_lCW",
        "outputId": "2cddf880-29a1-4e68-fbf0-a1594f5825f2",
        "colab": {
          "base_uri": "https://localhost:8080/",
          "height": 0
        }
      },
      "execution_count": 209,
      "outputs": [
        {
          "output_type": "display_data",
          "data": {
            "text/plain": [
              "<Figure size 432x288 with 1 Axes>"
            ],
            "image/png": "[encoded data removed]"
          },
          "metadata": {
            "needs_background": "light"
          }
        }
      ]
    },
    {
      "cell_type": "code",
      "source": [
        "plt.bar([1,2,3],sample_data['PetalLength'],color=['r','g','b']) #เปลี่ยนสีได้\n",
        "plt.xticks([1,2,3], sample_data.reset_index()['Name'], rotation='vertical') #ชื่อแกน x\n",
        "plt.title('Comparison between average petal length of 3 iris flowers') #ชื่อกราฟ\n",
        "plt.grid(True) #เส้นลาก\n",
        "plt.ylabel('size (cm)'); #ชื่อแกน y"
      ],
      "metadata": {
        "id": "KcRqVHJ1_lAP",
        "outputId": "187c96b3-8697-48fb-cb21-d38a36828610",
        "colab": {
          "base_uri": "https://localhost:8080/",
          "height": 0
        }
      },
      "execution_count": 210,
      "outputs": [
        {
          "output_type": "display_data",
          "data": {
            "text/plain": [
              "<Figure size 432x288 with 1 Axes>"
            ],
            "image/png": "[encoded data removed]"
          },
          "metadata": {
            "needs_background": "light"
          }
        }
      ]
    },
    {
      "cell_type": "markdown",
      "source": [
        "### เปรียบเทียบปริมาณ มากกว่า 1 ปริมาณของ object หลาย class"
      ],
      "metadata": {
        "id": "gcjg_9rc_ych"
      }
    },
    {
      "cell_type": "markdown",
      "source": [
        "![comparing bar.png](data:image/png;base64,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)"
      ],
      "metadata": {
        "id": "gDC22H-a_04J"
      }
    },
    {
      "cell_type": "code",
      "source": [
        "import numpy as np #import ข้อมูลเข้า"
      ],
      "metadata": {
        "id": "aEDIbrJv_vGC"
      },
      "execution_count": 211,
      "outputs": []
    },
    {
      "cell_type": "code",
      "source": [
        "width = 0.2 #กำหนดขนาดของกราฟ\n",
        "\n",
        "plt.bar([1, 2],[sample_data['PetalLength'][1],sample_data['PetalWidth'][1]],width,color='g',label='versicolor') #ดอกที่ 2 versicolor\n",
        "plt.bar([1-width, 2-width],[sample_data['PetalLength'][0],sample_data['PetalWidth'][0]],width,color='r',label='setosa') #ดอกที่ 1 setosa ขยับซ้าย\n",
        "plt.bar([1+width, 2+width],[sample_data['PetalLength'][2],sample_data['PetalWidth'][2]],width,color='b',label='virginica') #ดอกที่ 1 setosa ขยับซ้าย\n",
        "\n",
        "plt.xticks([1,2], ['Petal Length','Petal Width']) #ชื่อแกน x\n",
        "plt.legend();"
      ],
      "metadata": {
        "id": "BQu_zvx6_vDW",
        "outputId": "69d99420-5502-499a-b3a3-ae1efae76b5b",
        "colab": {
          "base_uri": "https://localhost:8080/",
          "height": 0
        }
      },
      "execution_count": 212,
      "outputs": [
        {
          "output_type": "display_data",
          "data": {
            "text/plain": [
              "<Figure size 432x288 with 1 Axes>"
            ],
            "image/png": "[encoded data removed]"
          },
          "metadata": {
            "needs_background": "light"
          }
        }
      ]
    },
    {
      "cell_type": "markdown",
      "source": [
        "### การนำปริมาณหลายปริมาณมาซ้อนกัน"
      ],
      "metadata": {
        "id": "6mf7KQpM_5_9"
      }
    },
    {
      "cell_type": "markdown",
      "source": [
        "![staked bar.png](data:image/png;base64,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)"
      ],
      "metadata": {
        "id": "y33loap__8E2"
      }
    },
    {
      "cell_type": "code",
      "source": [
        "plt.bar([1,2,3],sample_data['PetalLength'],color='b',label='Petal Length') #กราฟที่น้ำเงิน\n",
        "plt.bar([1,2,3],sample_data['PetalWidth'],bottom=sample_data['PetalLength'],color='r',label='Petal Width') #กราฟสีแดง\n",
        "plt.xticks([1,2,3], sample_data.reset_index()['Name']) #ชื่อแกน x\n",
        "plt.grid(True,axis='y') #เส้นลาก\n",
        "plt.legend();"
      ],
      "metadata": {
        "id": "JWWd_aNa_vBC",
        "outputId": "2b1a9234-ee95-4c13-be00-18ab410af031",
        "colab": {
          "base_uri": "https://localhost:8080/",
          "height": 0
        }
      },
      "execution_count": 213,
      "outputs": [
        {
          "output_type": "display_data",
          "data": {
            "text/plain": [
              "<Figure size 432x288 with 1 Axes>"
            ],
            "image/png": "[encoded data removed]"
          },
          "metadata": {
            "needs_background": "light"
          }
        }
      ]
    },
    {
      "cell_type": "markdown",
      "source": [
        "### Bar chart แบบ ตะแคงข้าง"
      ],
      "metadata": {
        "id": "sSUuknbzABPa"
      }
    },
    {
      "cell_type": "code",
      "source": [
        "plt.barh([1,2,3],sample_data['PetalLength'],color='b',label='Petal Length') #กราฟสีน้ำเงิน\n",
        "plt.barh([1,2,3],sample_data['PetalWidth'],left=sample_data['PetalLength'],color='r',label='Petal Width') #กราฟสีแดง\n",
        "plt.yticks([1,2,3], sample_data.reset_index()['Name']) #ชื่อแกน x\n",
        "plt.grid(True,axis='x') #เส้นลากแนวแกน x\n",
        "plt.legend();"
      ],
      "metadata": {
        "id": "CY2Elbxk_u8J",
        "outputId": "5a7982fb-287b-4bde-aaaa-0116bdf86759",
        "colab": {
          "base_uri": "https://localhost:8080/",
          "height": 0
        }
      },
      "execution_count": 214,
      "outputs": [
        {
          "output_type": "display_data",
          "data": {
            "text/plain": [
              "<Figure size 432x288 with 1 Axes>"
            ],
            "image/png": "[encoded data removed]"
          },
          "metadata": {
            "needs_background": "light"
          }
        }
      ]
    },
    {
      "cell_type": "markdown",
      "source": [
        "# HW 7 \n",
        "1. plot bar chart เปรียบเทียบ sepal legth, sepal width, petal length, petal width ของ ดอก iris ทั้ง 3 ชนิด\n",
        "\n",
        "2. plot bar chart เพื่อเปรียบเทียบขนาดโดยรวมของ ดอก iris 3 ชนิด โดยดูจาก sepal legth, sepal width, petal length, และ petal width\n"
      ],
      "metadata": {
        "id": "T6vIWmcgAFat"
      }
    },
    {
      "cell_type": "markdown",
      "source": [
        "- ข้อที่ 1  plot bar chart เปรียบเทียบ sepal legth, sepal width, petal length, petal width ของ ดอก iris ทั้ง 3 ชนิด"
      ],
      "metadata": {
        "id": "qzBNTutcBkVF"
      }
    },
    {
      "cell_type": "code",
      "source": [
        "width = 0.2 #กำหนดความกว้างของกราฟ\n",
        "\n",
        "plt.bar([1,2,3,4],[sample_data['SepalLength'][1],sample_data['SepalWidth'][1],sample_data['PetalLength'][1],sample_data['PetalWidth'][1]],width,color='b',label='versicolor') #ดอกที่ 2 versicolor\n",
        "plt.bar([1-width,2-width,3-width,4-width],[sample_data['SepalLength'][0],sample_data['SepalWidth'][0],sample_data['PetalLength'][0],sample_data['PetalWidth'][0]],width,color='g',label='setosa') #ดอกที่ 1 setosa ขยับซ้าย\n",
        "plt.bar([1+width,2+width,3+width,4+width],[sample_data['SepalLength'][2],sample_data['SepalWidth'][2],sample_data['PetalLength'][2],sample_data['PetalWidth'][2]],width,color='r',label='virginica') # ดอกที่ 3 virginica ขยับขวา\n",
        "plt.xticks([1,2,3,4],['Sepal Length','Sepa lWidth','Petal Length','Petal Width']); #ชื่อแกน x\n",
        "plt.legend();"
      ],
      "metadata": {
        "id": "7L01s3yEBrRt",
        "outputId": "cb4b51f1-c44b-4284-fa02-eb9375022bcc",
        "colab": {
          "base_uri": "https://localhost:8080/",
          "height": 0
        }
      },
      "execution_count": 215,
      "outputs": [
        {
          "output_type": "display_data",
          "data": {
            "text/plain": [
              "<Figure size 432x288 with 1 Axes>"
            ],
            "image/png": "[encoded data removed]"
          },
          "metadata": {
            "needs_background": "light"
          }
        }
      ]
    },
    {
      "cell_type": "markdown",
      "source": [
        "- ข้อที่ 2 plot bar chart เพื่อเปรียบเทียบขนาดโดยรวมของ ดอก iris 3 ชนิด โดยดูจาก sepal legth, sepal width, petal length, และ petal width"
      ],
      "metadata": {
        "id": "iVHPT_tCBl0f"
      }
    },
    {
      "cell_type": "code",
      "source": [
        "plt.bar([1,2,3],sample_data['SepalLength'],color='c',label='Sepal Length')\n",
        "plt.bar([1,2,3],sample_data['SepalWidth'],bottom=sample_data['SepalLength'],color='m',label='Sepal Width')\n",
        "plt.bar([1,2,3],sample_data['PetalLength'],bottom=sample_data['SepalLength']+sample_data['SepalWidth'],color='y',label='Petal Length')\n",
        "plt.bar([1,2,3],sample_data['PetalWidth'],bottom=sample_data['SepalLength']+sample_data['SepalWidth']+sample_data['PetalLength'],color='k',label='Petal Width')\n",
        "plt.xticks([1,2,3],sample_data.reset_index()['Name']) #ชื่อแกน x \n",
        "plt.grid(True,axis='y')\n",
        "plt.legend();"
      ],
      "metadata": {
        "id": "09iL-UwNBrHA",
        "outputId": "d0d6c6d9-658b-4ccb-e68d-61928c0002f2",
        "colab": {
          "base_uri": "https://localhost:8080/",
          "height": 0
        }
      },
      "execution_count": 216,
      "outputs": [
        {
          "output_type": "display_data",
          "data": {
            "text/plain": [
              "<Figure size 432x288 with 1 Axes>"
            ],
            "image/png": "[encoded data removed]"
          },
          "metadata": {
            "needs_background": "light"
          }
        }
      ]
    },
    {
      "cell_type": "markdown",
      "source": [
        "# Histogram\n",
        "\n",
        "- แสดงความถี่ของข้อมูล"
      ],
      "metadata": {
        "id": "potT-SEtAHvM"
      }
    },
    {
      "cell_type": "code",
      "source": [
        "np.random.seed(2022) #สุ่ม\n",
        "\n",
        "X = np.random.randint(1,101,10000) #(เลขน้อยที่สุด,เลขมากที่สุด,เอากี่ตัว) "
      ],
      "metadata": {
        "id": "RC_8a8rfACZm"
      },
      "execution_count": 217,
      "outputs": []
    },
    {
      "cell_type": "code",
      "source": [
        "X #แสดงค่าออกมา"
      ],
      "metadata": {
        "id": "1aOAZM8kACXG",
        "outputId": "9c48b589-bd86-4f3a-fe8c-50d1ab535f96",
        "colab": {
          "base_uri": "https://localhost:8080/"
        }
      },
      "execution_count": 218,
      "outputs": [
        {
          "output_type": "execute_result",
          "data": {
            "text/plain": [
              "array([93, 46, 50, ..., 64,  7, 46])"
            ]
          },
          "metadata": {},
          "execution_count": 218
        }
      ]
    },
    {
      "cell_type": "code",
      "source": [
        "histout = plt.hist(X) #พล๊อตฮิสโตแกรมออกมา"
      ],
      "metadata": {
        "id": "UdV6z_hIACUu",
        "outputId": "e670a818-5636-4f39-f6ab-40dd38b44b27",
        "colab": {
          "base_uri": "https://localhost:8080/",
          "height": 263
        }
      },
      "execution_count": 219,
      "outputs": [
        {
          "output_type": "display_data",
          "data": {
            "text/plain": [
              "<Figure size 432x288 with 1 Axes>"
            ],
            "image/png": "[encoded data removed]"
          },
          "metadata": {
            "needs_background": "light"
          }
        }
      ]
    },
    {
      "cell_type": "code",
      "source": [
        "histout #สามารถดูตำแหน่งได้"
      ],
      "metadata": {
        "id": "pSSzyEF1_u5e",
        "outputId": "8296acaa-55a6-4eeb-8b83-becce2dfb4bd",
        "colab": {
          "base_uri": "https://localhost:8080/"
        }
      },
      "execution_count": 220,
      "outputs": [
        {
          "output_type": "execute_result",
          "data": {
            "text/plain": [
              "(array([1020., 1033.,  963.,  988., 1018.,  990., 1010., 1012.,  992.,\n",
              "         974.]),\n",
              " array([  1. ,  10.9,  20.8,  30.7,  40.6,  50.5,  60.4,  70.3,  80.2,\n",
              "         90.1, 100. ]),\n",
              " <a list of 10 Patch objects>)"
            ]
          },
          "metadata": {},
          "execution_count": 220
        }
      ]
    },
    {
      "cell_type": "code",
      "source": [
        "histout[0] #เลขที่อยู่ช่ว 1020 ถึง 1033 จะเป็นตัวแรก"
      ],
      "metadata": {
        "id": "lbrlMMWm_k9z",
        "outputId": "f6bd7e66-a733-41c8-cd42-2d69a7494f60",
        "colab": {
          "base_uri": "https://localhost:8080/"
        }
      },
      "execution_count": 221,
      "outputs": [
        {
          "output_type": "execute_result",
          "data": {
            "text/plain": [
              "array([1020., 1033.,  963.,  988., 1018.,  990., 1010., 1012.,  992.,\n",
              "        974.])"
            ]
          },
          "metadata": {},
          "execution_count": 221
        }
      ]
    },
    {
      "cell_type": "code",
      "source": [
        "histout[1] #เลขที่อยู่ช่ว 1 ถึง 10.9 จะเป็นตัวที่สอง"
      ],
      "metadata": {
        "id": "6pPJ-_fK_k7W",
        "outputId": "b841a16b-f402-4a11-b4c7-988e14cb639d",
        "colab": {
          "base_uri": "https://localhost:8080/"
        }
      },
      "execution_count": 222,
      "outputs": [
        {
          "output_type": "execute_result",
          "data": {
            "text/plain": [
              "array([  1. ,  10.9,  20.8,  30.7,  40.6,  50.5,  60.4,  70.3,  80.2,\n",
              "        90.1, 100. ])"
            ]
          },
          "metadata": {},
          "execution_count": 222
        }
      ]
    },
    {
      "cell_type": "markdown",
      "source": [
        "# Tree map"
      ],
      "metadata": {
        "id": "ULs05E3X7odv"
      }
    },
    {
      "cell_type": "code",
      "source": [
        "!pip install squarify"
      ],
      "metadata": {
        "id": "JBaSXoFnr0C3",
        "outputId": "c2e130f4-428d-4bd6-e9b4-cc7cd2b87ad1",
        "colab": {
          "base_uri": "https://localhost:8080/"
        }
      },
      "execution_count": 223,
      "outputs": [
        {
          "output_type": "stream",
          "name": "stdout",
          "text": [
            "Requirement already satisfied: squarify in /usr/local/lib/python3.7/dist-packages (0.4.3)\n"
          ]
        }
      ]
    },
    {
      "cell_type": "code",
      "source": [
        "import matplotlib.pyplot as plt\n",
        "import squarify"
      ],
      "metadata": {
        "id": "NmLtrubE8RYS"
      },
      "execution_count": 224,
      "outputs": []
    },
    {
      "cell_type": "code",
      "source": [
        "data = [500, 250, 60, 120]"
      ],
      "metadata": {
        "id": "BLq7uSRj8Tc2"
      },
      "execution_count": 225,
      "outputs": []
    },
    {
      "cell_type": "code",
      "source": [
        "squarify.plot(data)\n",
        "plt.axis('off')"
      ],
      "metadata": {
        "id": "LJqSyN3v8em1",
        "outputId": "693bab95-ad17-4c13-ed90-c978dc092aa2",
        "colab": {
          "base_uri": "https://localhost:8080/",
          "height": 265
        }
      },
      "execution_count": 226,
      "outputs": [
        {
          "output_type": "execute_result",
          "data": {
            "text/plain": [
              "(0.0, 100.0, 0.0, 100.0)"
            ]
          },
          "metadata": {},
          "execution_count": 226
        },
        {
          "output_type": "display_data",
          "data": {
            "text/plain": [
              "<Figure size 432x288 with 1 Axes>"
            ],
            "image/png": "[encoded data removed]"
          },
          "metadata": {
            "needs_background": "light"
          }
        }
      ]
    },
    {
      "cell_type": "markdown",
      "source": [
        "### ตั้งสี ที่ต้องการ"
      ],
      "metadata": {
        "id": "tDF3Yk4F9OP2"
      }
    },
    {
      "cell_type": "code",
      "source": [
        "data = [500, 250, 60, 120]\n",
        "color = ['red', 'green', 'blue', 'orange']\n",
        "squarify.plot(data,color=color)\n",
        "plt.axis('off')"
      ],
      "metadata": {
        "id": "aU9mEA6I8jgm",
        "outputId": "1250f05c-ebb6-459c-a7df-fc7e91a72c45",
        "colab": {
          "base_uri": "https://localhost:8080/",
          "height": 0
        }
      },
      "execution_count": 227,
      "outputs": [
        {
          "output_type": "execute_result",
          "data": {
            "text/plain": [
              "(0.0, 100.0, 0.0, 100.0)"
            ]
          },
          "metadata": {},
          "execution_count": 227
        },
        {
          "output_type": "display_data",
          "data": {
            "text/plain": [
              "<Figure size 432x288 with 1 Axes>"
            ],
            "image/png": "[encoded data removed]"
          },
          "metadata": {
            "needs_background": "light"
          }
        }
      ]
    },
    {
      "cell_type": "markdown",
      "source": [
        "เพิ่มชื่อให้กับปริมาณแต่ละตัว"
      ],
      "metadata": {
        "id": "JsoOvRd19qO9"
      }
    },
    {
      "cell_type": "code",
      "source": [
        "labels = ['SCI', 'ENG', 'EDU', 'AGI']\n",
        "data = [500, 250, 60, 120]\n",
        "color = ['red', 'green', 'blue', 'orange']\n",
        "squarify.plot(data,color=color,label = labels)\n",
        "plt.axis('off')"
      ],
      "metadata": {
        "id": "WDowd8qf9ccR",
        "outputId": "4b0918fd-1433-47c6-91f3-47d2d7436f51",
        "colab": {
          "base_uri": "https://localhost:8080/",
          "height": 0
        }
      },
      "execution_count": 228,
      "outputs": [
        {
          "output_type": "execute_result",
          "data": {
            "text/plain": [
              "(0.0, 100.0, 0.0, 100.0)"
            ]
          },
          "metadata": {},
          "execution_count": 228
        },
        {
          "output_type": "display_data",
          "data": {
            "text/plain": [
              "<Figure size 432x288 with 1 Axes>"
            ],
            "image/png": "[encoded data removed]"
          },
          "metadata": {
            "needs_background": "light"
          }
        }
      ]
    },
    {
      "cell_type": "code",
      "source": [
        "labels = ['SCI', 'ENG', 'EDU', 'AGI']\n",
        "data = [500, 250, 60, 120]\n",
        "color = ['red', 'green', 'blue', 'orange']\n",
        "squarify.plot(data,color=color,label = labels,pad=True)\n",
        "plt.axis('off')"
      ],
      "metadata": {
        "id": "SgZtjs-L-KXt",
        "outputId": "0cbbf1e5-74cf-4c81-be46-27013ba21a1a",
        "colab": {
          "base_uri": "https://localhost:8080/",
          "height": 0
        }
      },
      "execution_count": 229,
      "outputs": [
        {
          "output_type": "execute_result",
          "data": {
            "text/plain": [
              "(0.0, 100.0, 0.0, 100.0)"
            ]
          },
          "metadata": {},
          "execution_count": 229
        },
        {
          "output_type": "display_data",
          "data": {
            "text/plain": [
              "<Figure size 432x288 with 1 Axes>"
            ],
            "image/png": "[encoded data removed]"
          },
          "metadata": {
            "needs_background": "light"
          }
        }
      ]
    },
    {
      "cell_type": "markdown",
      "source": [
        "# Group HW2\n",
        "plot tree map ของปริมาณผู้ติดเชื้อ covid-19 ของแต่ละจังหวัดในประเทศไทย ในวันที่ 1-4 มีนาคม 2565"
      ],
      "metadata": {
        "id": "295s5c8Q-uZo"
      }
    },
    {
      "cell_type": "code",
      "source": [
        "import os\n",
        "from google.colab import drive\n",
        "drive.mount('/content/drive')\n",
        "path = '/content/drive/My Drive/dataviz_2021_data'"
      ],
      "metadata": {
        "id": "E9orLH1UO_3j",
        "outputId": "003b069d-073a-4fbc-ff59-05b437e26145",
        "colab": {
          "base_uri": "https://localhost:8080/"
        }
      },
      "execution_count": 230,
      "outputs": [
        {
          "output_type": "stream",
          "name": "stdout",
          "text": [
            "Drive already mounted at /content/drive; to attempt to forcibly remount, call drive.mount(\"/content/drive\", force_remount=True).\n"
          ]
        }
      ]
    },
    {
      "cell_type": "code",
      "source": [
        "data_file_path = os.path.join(path,'confirmed-cases-since-280265.csv')   \n",
        "data_cases = pd.read_csv(data_file_path)"
      ],
      "metadata": {
        "id": "dJGnlokDO_1b"
      },
      "execution_count": 231,
      "outputs": []
    },
    {
      "cell_type": "code",
      "source": [
        "data_cases.head(20)"
      ],
      "metadata": {
        "id": "viaT4shqO_zW",
        "outputId": "e81bd8c7-319d-4b27-885a-edd8de3e367d",
        "colab": {
          "base_uri": "https://localhost:8080/",
          "height": 676
        }
      },
      "execution_count": 232,
      "outputs": [
        {
          "output_type": "execute_result",
          "data": {
            "text/plain": [
              "        No. announce_date Notified date   sex   age Unit nationality  \\\n",
              "0   2869617     28/2/2022     27/2/2022   ชาย  41.0   ปี    Thailand   \n",
              "1   2869618     28/2/2022     27/2/2022  หญิง  45.0   ปี    Thailand   \n",
              "2   2869619     28/2/2022     27/2/2022  หญิง  40.0   ปี    Thailand   \n",
              "3   2869620     28/2/2022     27/2/2022   ชาย  44.0   ปี    Thailand   \n",
              "4   2869621     28/2/2022     27/2/2022   ชาย  11.0   ปี    Thailand   \n",
              "5   2869622     28/2/2022     27/2/2022  หญิง  19.0   ปี    Thailand   \n",
              "6   2869623     28/2/2022     27/2/2022  หญิง  22.0   ปี    Thailand   \n",
              "7   2869624     28/2/2022     27/2/2022   ชาย  61.0   ปี    Thailand   \n",
              "8   2869625     28/2/2022     27/2/2022  หญิง  46.0   ปี    Thailand   \n",
              "9   2869626     28/2/2022     27/2/2022   ชาย  61.0   ปี    Thailand   \n",
              "10  2869627     28/2/2022     27/2/2022   ชาย  33.0   ปี    Thailand   \n",
              "11  2869628     28/2/2022     27/2/2022  หญิง  41.0   ปี    Thailand   \n",
              "12  2869629     28/2/2022     27/2/2022   ชาย  23.0   ปี    Thailand   \n",
              "13  2869630     28/2/2022     27/2/2022  หญิง  44.0   ปี    Thailand   \n",
              "14  2869631     28/2/2022     27/2/2022  หญิง  26.0   ปี    Thailand   \n",
              "15  2869632     28/2/2022     27/2/2022   ชาย  42.0   ปี    Thailand   \n",
              "16  2869633     28/2/2022     27/2/2022   ชาย  11.0   ปี    Thailand   \n",
              "17  2869634     28/2/2022     27/2/2022   ชาย  24.0   ปี    Thailand   \n",
              "18  2869635     28/2/2022     27/2/2022  หญิง   6.0   ปี    Thailand   \n",
              "19  2869636     28/2/2022     27/2/2022  หญิง  28.0   ปี    Thailand   \n",
              "\n",
              "   province_of_isolation                                         risk  \\\n",
              "0                  พะเยา  สัมผัสใกล้ชิดกับผู้ป่วยยืนยันรายก่อนหน้านี้   \n",
              "1                  พะเยา  สัมผัสใกล้ชิดกับผู้ป่วยยืนยันรายก่อนหน้านี้   \n",
              "2                  พะเยา  สัมผัสใกล้ชิดกับผู้ป่วยยืนยันรายก่อนหน้านี้   \n",
              "3                  พะเยา  สัมผัสใกล้ชิดกับผู้ป่วยยืนยันรายก่อนหน้านี้   \n",
              "4                  พะเยา  สัมผัสใกล้ชิดกับผู้ป่วยยืนยันรายก่อนหน้านี้   \n",
              "5                  พะเยา                         อยู่ระหว่างการสอบสวน   \n",
              "6                  พะเยา                         อยู่ระหว่างการสอบสวน   \n",
              "7                  พะเยา  สัมผัสใกล้ชิดกับผู้ป่วยยืนยันรายก่อนหน้านี้   \n",
              "8                  พะเยา  สัมผัสใกล้ชิดกับผู้ป่วยยืนยันรายก่อนหน้านี้   \n",
              "9                  พะเยา  สัมผัสใกล้ชิดกับผู้ป่วยยืนยันรายก่อนหน้านี้   \n",
              "10                 พะเยา  สัมผัสใกล้ชิดกับผู้ป่วยยืนยันรายก่อนหน้านี้   \n",
              "11                 พะเยา  สัมผัสใกล้ชิดกับผู้ป่วยยืนยันรายก่อนหน้านี้   \n",
              "12                 พะเยา  สัมผัสใกล้ชิดกับผู้ป่วยยืนยันรายก่อนหน้านี้   \n",
              "13                 พะเยา  สัมผัสใกล้ชิดกับผู้ป่วยยืนยันรายก่อนหน้านี้   \n",
              "14                 พะเยา  สัมผัสใกล้ชิดกับผู้ป่วยยืนยันรายก่อนหน้านี้   \n",
              "15                 พะเยา  สัมผัสใกล้ชิดกับผู้ป่วยยืนยันรายก่อนหน้านี้   \n",
              "16                 พะเยา  สัมผัสใกล้ชิดกับผู้ป่วยยืนยันรายก่อนหน้านี้   \n",
              "17                 พะเยา  สัมผัสใกล้ชิดกับผู้ป่วยยืนยันรายก่อนหน้านี้   \n",
              "18                 พะเยา  สัมผัสใกล้ชิดกับผู้ป่วยยืนยันรายก่อนหน้านี้   \n",
              "19                 พะเยา  สัมผัสใกล้ชิดกับผู้ป่วยยืนยันรายก่อนหน้านี้   \n",
              "\n",
              "   province_of_onset district_of_onset  \n",
              "0              พะเยา        เมืองพะเยา  \n",
              "1              พะเยา        เมืองพะเยา  \n",
              "2              พะเยา        เมืองพะเยา  \n",
              "3              พะเยา        เมืองพะเยา  \n",
              "4              พะเยา        เมืองพะเยา  \n",
              "5              พะเยา        เมืองพะเยา  \n",
              "6              พะเยา        เมืองพะเยา  \n",
              "7              พะเยา             แม่ใจ  \n",
              "8              พะเยา             แม่ใจ  \n",
              "9              พะเยา             แม่ใจ  \n",
              "10             พะเยา               จุน  \n",
              "11             พะเยา             แม่ใจ  \n",
              "12             พะเยา             แม่ใจ  \n",
              "13             พะเยา             แม่ใจ  \n",
              "14             พะเยา             แม่ใจ  \n",
              "15             พะเยา             แม่ใจ  \n",
              "16             พะเยา             แม่ใจ  \n",
              "17             พะเยา             แม่ใจ  \n",
              "18             พะเยา             แม่ใจ  \n",
              "19             พะเยา          ดอกคำใต้  "
            ],
            "text/html": [
              "\n",
              "  <div id=\"df-054db3de-30bd-4ef8-a4f5-810ae2ea88d4\">\n",
              "    <div class=\"colab-df-container\">\n",
              "      <div>\n",
              "<style scoped>\n",
              "    .dataframe tbody tr th:only-of-type {\n",
              "        vertical-align: middle;\n",
              "    }\n",
              "\n",
              "    .dataframe tbody tr th {\n",
              "        vertical-align: top;\n",
              "    }\n",
              "\n",
              "    .dataframe thead th {\n",
              "        text-align: right;\n",
              "    }\n",
              "</style>\n",
              "<table border=\"1\" class=\"dataframe\">\n",
              "  <thead>\n",
              "    <tr style=\"text-align: right;\">\n",
              "      <th></th>\n",
              "      <th>No.</th>\n",
              "      <th>announce_date</th>\n",
              "      <th>Notified date</th>\n",
              "      <th>sex</th>\n",
              "      <th>age</th>\n",
              "      <th>Unit</th>\n",
              "      <th>nationality</th>\n",
              "      <th>province_of_isolation</th>\n",
              "      <th>risk</th>\n",
              "      <th>province_of_onset</th>\n",
              "      <th>district_of_onset</th>\n",
              "    </tr>\n",
              "  </thead>\n",
              "  <tbody>\n",
              "    <tr>\n",
              "      <th>0</th>\n",
              "      <td>2869617</td>\n",
              "      <td>28/2/2022</td>\n",
              "      <td>27/2/2022</td>\n",
              "      <td>ชาย</td>\n",
              "      <td>41.0</td>\n",
              "      <td>ปี</td>\n",
              "      <td>Thailand</td>\n",
              "      <td>พะเยา</td>\n",
              "      <td>สัมผัสใกล้ชิดกับผู้ป่วยยืนยันรายก่อนหน้านี้</td>\n",
              "      <td>พะเยา</td>\n",
              "      <td>เมืองพะเยา</td>\n",
              "    </tr>\n",
              "    <tr>\n",
              "      <th>1</th>\n",
              "      <td>2869618</td>\n",
              "      <td>28/2/2022</td>\n",
              "      <td>27/2/2022</td>\n",
              "      <td>หญิง</td>\n",
              "      <td>45.0</td>\n",
              "      <td>ปี</td>\n",
              "      <td>Thailand</td>\n",
              "      <td>พะเยา</td>\n",
              "      <td>สัมผัสใกล้ชิดกับผู้ป่วยยืนยันรายก่อนหน้านี้</td>\n",
              "      <td>พะเยา</td>\n",
              "      <td>เมืองพะเยา</td>\n",
              "    </tr>\n",
              "    <tr>\n",
              "      <th>2</th>\n",
              "      <td>2869619</td>\n",
              "      <td>28/2/2022</td>\n",
              "      <td>27/2/2022</td>\n",
              "      <td>หญิง</td>\n",
              "      <td>40.0</td>\n",
              "      <td>ปี</td>\n",
              "      <td>Thailand</td>\n",
              "      <td>พะเยา</td>\n",
              "      <td>สัมผัสใกล้ชิดกับผู้ป่วยยืนยันรายก่อนหน้านี้</td>\n",
              "      <td>พะเยา</td>\n",
              "      <td>เมืองพะเยา</td>\n",
              "    </tr>\n",
              "    <tr>\n",
              "      <th>3</th>\n",
              "      <td>2869620</td>\n",
              "      <td>28/2/2022</td>\n",
              "      <td>27/2/2022</td>\n",
              "      <td>ชาย</td>\n",
              "      <td>44.0</td>\n",
              "      <td>ปี</td>\n",
              "      <td>Thailand</td>\n",
              "      <td>พะเยา</td>\n",
              "      <td>สัมผัสใกล้ชิดกับผู้ป่วยยืนยันรายก่อนหน้านี้</td>\n",
              "      <td>พะเยา</td>\n",
              "      <td>เมืองพะเยา</td>\n",
              "    </tr>\n",
              "    <tr>\n",
              "      <th>4</th>\n",
              "      <td>2869621</td>\n",
              "      <td>28/2/2022</td>\n",
              "      <td>27/2/2022</td>\n",
              "      <td>ชาย</td>\n",
              "      <td>11.0</td>\n",
              "      <td>ปี</td>\n",
              "      <td>Thailand</td>\n",
              "      <td>พะเยา</td>\n",
              "      <td>สัมผัสใกล้ชิดกับผู้ป่วยยืนยันรายก่อนหน้านี้</td>\n",
              "      <td>พะเยา</td>\n",
              "      <td>เมืองพะเยา</td>\n",
              "    </tr>\n",
              "    <tr>\n",
              "      <th>5</th>\n",
              "      <td>2869622</td>\n",
              "      <td>28/2/2022</td>\n",
              "      <td>27/2/2022</td>\n",
              "      <td>หญิง</td>\n",
              "      <td>19.0</td>\n",
              "      <td>ปี</td>\n",
              "      <td>Thailand</td>\n",
              "      <td>พะเยา</td>\n",
              "      <td>อยู่ระหว่างการสอบสวน</td>\n",
              "      <td>พะเยา</td>\n",
              "      <td>เมืองพะเยา</td>\n",
              "    </tr>\n",
              "    <tr>\n",
              "      <th>6</th>\n",
              "      <td>2869623</td>\n",
              "      <td>28/2/2022</td>\n",
              "      <td>27/2/2022</td>\n",
              "      <td>หญิง</td>\n",
              "      <td>22.0</td>\n",
              "      <td>ปี</td>\n",
              "      <td>Thailand</td>\n",
              "      <td>พะเยา</td>\n",
              "      <td>อยู่ระหว่างการสอบสวน</td>\n",
              "      <td>พะเยา</td>\n",
              "      <td>เมืองพะเยา</td>\n",
              "    </tr>\n",
              "    <tr>\n",
              "      <th>7</th>\n",
              "      <td>2869624</td>\n",
              "      <td>28/2/2022</td>\n",
              "      <td>27/2/2022</td>\n",
              "      <td>ชาย</td>\n",
              "      <td>61.0</td>\n",
              "      <td>ปี</td>\n",
              "      <td>Thailand</td>\n",
              "      <td>พะเยา</td>\n",
              "      <td>สัมผัสใกล้ชิดกับผู้ป่วยยืนยันรายก่อนหน้านี้</td>\n",
              "      <td>พะเยา</td>\n",
              "      <td>แม่ใจ</td>\n",
              "    </tr>\n",
              "    <tr>\n",
              "      <th>8</th>\n",
              "      <td>2869625</td>\n",
              "      <td>28/2/2022</td>\n",
              "      <td>27/2/2022</td>\n",
              "      <td>หญิง</td>\n",
              "      <td>46.0</td>\n",
              "      <td>ปี</td>\n",
              "      <td>Thailand</td>\n",
              "      <td>พะเยา</td>\n",
              "      <td>สัมผัสใกล้ชิดกับผู้ป่วยยืนยันรายก่อนหน้านี้</td>\n",
              "      <td>พะเยา</td>\n",
              "      <td>แม่ใจ</td>\n",
              "    </tr>\n",
              "    <tr>\n",
              "      <th>9</th>\n",
              "      <td>2869626</td>\n",
              "      <td>28/2/2022</td>\n",
              "      <td>27/2/2022</td>\n",
              "      <td>ชาย</td>\n",
              "      <td>61.0</td>\n",
              "      <td>ปี</td>\n",
              "      <td>Thailand</td>\n",
              "      <td>พะเยา</td>\n",
              "      <td>สัมผัสใกล้ชิดกับผู้ป่วยยืนยันรายก่อนหน้านี้</td>\n",
              "      <td>พะเยา</td>\n",
              "      <td>แม่ใจ</td>\n",
              "    </tr>\n",
              "    <tr>\n",
              "      <th>10</th>\n",
              "      <td>2869627</td>\n",
              "      <td>28/2/2022</td>\n",
              "      <td>27/2/2022</td>\n",
              "      <td>ชาย</td>\n",
              "      <td>33.0</td>\n",
              "      <td>ปี</td>\n",
              "      <td>Thailand</td>\n",
              "      <td>พะเยา</td>\n",
              "      <td>สัมผัสใกล้ชิดกับผู้ป่วยยืนยันรายก่อนหน้านี้</td>\n",
              "      <td>พะเยา</td>\n",
              "      <td>จุน</td>\n",
              "    </tr>\n",
              "    <tr>\n",
              "      <th>11</th>\n",
              "      <td>2869628</td>\n",
              "      <td>28/2/2022</td>\n",
              "      <td>27/2/2022</td>\n",
              "      <td>หญิง</td>\n",
              "      <td>41.0</td>\n",
              "      <td>ปี</td>\n",
              "      <td>Thailand</td>\n",
              "      <td>พะเยา</td>\n",
              "      <td>สัมผัสใกล้ชิดกับผู้ป่วยยืนยันรายก่อนหน้านี้</td>\n",
              "      <td>พะเยา</td>\n",
              "      <td>แม่ใจ</td>\n",
              "    </tr>\n",
              "    <tr>\n",
              "      <th>12</th>\n",
              "      <td>2869629</td>\n",
              "      <td>28/2/2022</td>\n",
              "      <td>27/2/2022</td>\n",
              "      <td>ชาย</td>\n",
              "      <td>23.0</td>\n",
              "      <td>ปี</td>\n",
              "      <td>Thailand</td>\n",
              "      <td>พะเยา</td>\n",
              "      <td>สัมผัสใกล้ชิดกับผู้ป่วยยืนยันรายก่อนหน้านี้</td>\n",
              "      <td>พะเยา</td>\n",
              "      <td>แม่ใจ</td>\n",
              "    </tr>\n",
              "    <tr>\n",
              "      <th>13</th>\n",
              "      <td>2869630</td>\n",
              "      <td>28/2/2022</td>\n",
              "      <td>27/2/2022</td>\n",
              "      <td>หญิง</td>\n",
              "      <td>44.0</td>\n",
              "      <td>ปี</td>\n",
              "      <td>Thailand</td>\n",
              "      <td>พะเยา</td>\n",
              "      <td>สัมผัสใกล้ชิดกับผู้ป่วยยืนยันรายก่อนหน้านี้</td>\n",
              "      <td>พะเยา</td>\n",
              "      <td>แม่ใจ</td>\n",
              "    </tr>\n",
              "    <tr>\n",
              "      <th>14</th>\n",
              "      <td>2869631</td>\n",
              "      <td>28/2/2022</td>\n",
              "      <td>27/2/2022</td>\n",
              "      <td>หญิง</td>\n",
              "      <td>26.0</td>\n",
              "      <td>ปี</td>\n",
              "      <td>Thailand</td>\n",
              "      <td>พะเยา</td>\n",
              "      <td>สัมผัสใกล้ชิดกับผู้ป่วยยืนยันรายก่อนหน้านี้</td>\n",
              "      <td>พะเยา</td>\n",
              "      <td>แม่ใจ</td>\n",
              "    </tr>\n",
              "    <tr>\n",
              "      <th>15</th>\n",
              "      <td>2869632</td>\n",
              "      <td>28/2/2022</td>\n",
              "      <td>27/2/2022</td>\n",
              "      <td>ชาย</td>\n",
              "      <td>42.0</td>\n",
              "      <td>ปี</td>\n",
              "      <td>Thailand</td>\n",
              "      <td>พะเยา</td>\n",
              "      <td>สัมผัสใกล้ชิดกับผู้ป่วยยืนยันรายก่อนหน้านี้</td>\n",
              "      <td>พะเยา</td>\n",
              "      <td>แม่ใจ</td>\n",
              "    </tr>\n",
              "    <tr>\n",
              "      <th>16</th>\n",
              "      <td>2869633</td>\n",
              "      <td>28/2/2022</td>\n",
              "      <td>27/2/2022</td>\n",
              "      <td>ชาย</td>\n",
              "      <td>11.0</td>\n",
              "      <td>ปี</td>\n",
              "      <td>Thailand</td>\n",
              "      <td>พะเยา</td>\n",
              "      <td>สัมผัสใกล้ชิดกับผู้ป่วยยืนยันรายก่อนหน้านี้</td>\n",
              "      <td>พะเยา</td>\n",
              "      <td>แม่ใจ</td>\n",
              "    </tr>\n",
              "    <tr>\n",
              "      <th>17</th>\n",
              "      <td>2869634</td>\n",
              "      <td>28/2/2022</td>\n",
              "      <td>27/2/2022</td>\n",
              "      <td>ชาย</td>\n",
              "      <td>24.0</td>\n",
              "      <td>ปี</td>\n",
              "      <td>Thailand</td>\n",
              "      <td>พะเยา</td>\n",
              "      <td>สัมผัสใกล้ชิดกับผู้ป่วยยืนยันรายก่อนหน้านี้</td>\n",
              "      <td>พะเยา</td>\n",
              "      <td>แม่ใจ</td>\n",
              "    </tr>\n",
              "    <tr>\n",
              "      <th>18</th>\n",
              "      <td>2869635</td>\n",
              "      <td>28/2/2022</td>\n",
              "      <td>27/2/2022</td>\n",
              "      <td>หญิง</td>\n",
              "      <td>6.0</td>\n",
              "      <td>ปี</td>\n",
              "      <td>Thailand</td>\n",
              "      <td>พะเยา</td>\n",
              "      <td>สัมผัสใกล้ชิดกับผู้ป่วยยืนยันรายก่อนหน้านี้</td>\n",
              "      <td>พะเยา</td>\n",
              "      <td>แม่ใจ</td>\n",
              "    </tr>\n",
              "    <tr>\n",
              "      <th>19</th>\n",
              "      <td>2869636</td>\n",
              "      <td>28/2/2022</td>\n",
              "      <td>27/2/2022</td>\n",
              "      <td>หญิง</td>\n",
              "      <td>28.0</td>\n",
              "      <td>ปี</td>\n",
              "      <td>Thailand</td>\n",
              "      <td>พะเยา</td>\n",
              "      <td>สัมผัสใกล้ชิดกับผู้ป่วยยืนยันรายก่อนหน้านี้</td>\n",
              "      <td>พะเยา</td>\n",
              "      <td>ดอกคำใต้</td>\n",
              "    </tr>\n",
              "  </tbody>\n",
              "</table>\n",
              "</div>\n",
              "      <button class=\"colab-df-convert\" onclick=\"convertToInteractive('df-054db3de-30bd-4ef8-a4f5-810ae2ea88d4')\"\n",
              "              title=\"Convert this dataframe to an interactive table.\"\n",
              "              style=\"display:none;\">\n",
              "        \n",
              "  <svg xmlns=\"http://www.w3.org/2000/svg\" height=\"24px\"viewBox=\"0 0 24 24\"\n",
              "       width=\"24px\">\n",
              "    <path d=\"M0 0h24v24H0V0z\" fill=\"none\"/>\n",
              "    <path d=\"M18.56 5.44l.94 2.06.94-2.06 2.06-.94-2.06-.94-.94-2.06-.94 2.06-2.06.94zm-11 1L8.5 8.5l.94-2.06 2.06-.94-2.06-.94L8.5 2.5l-.94 2.06-2.06.94zm10 10l.94 2.06.94-2.06 2.06-.94-2.06-.94-.94-2.06-.94 2.06-2.06.94z\"/><path d=\"M17.41 7.96l-1.37-1.37c-.4-.4-.92-.59-1.43-.59-.52 0-1.04.2-1.43.59L10.3 9.45l-7.72 7.72c-.78.78-.78 2.05 0 2.83L4 21.41c.39.39.9.59 1.41.59.51 0 1.02-.2 1.41-.59l7.78-7.78 2.81-2.81c.8-.78.8-2.07 0-2.86zM5.41 20L4 18.59l7.72-7.72 1.47 1.35L5.41 20z\"/>\n",
              "  </svg>\n",
              "      </button>\n",
              "      \n",
              "  <style>\n",
              "    .colab-df-container {\n",
              "      display:flex;\n",
              "      flex-wrap:wrap;\n",
              "      gap: 12px;\n",
              "    }\n",
              "\n",
              "    .colab-df-convert {\n",
              "      background-color: #E8F0FE;\n",
              "      border: none;\n",
              "      border-radius: 50%;\n",
              "      cursor: pointer;\n",
              "      display: none;\n",
              "      fill: #1967D2;\n",
              "      height: 32px;\n",
              "      padding: 0 0 0 0;\n",
              "      width: 32px;\n",
              "    }\n",
              "\n",
              "    .colab-df-convert:hover {\n",
              "      background-color: #E2EBFA;\n",
              "      box-shadow: 0px 1px 2px rgba(60, 64, 67, 0.3), 0px 1px 3px 1px rgba(60, 64, 67, 0.15);\n",
              "      fill: #174EA6;\n",
              "    }\n",
              "\n",
              "    [theme=dark] .colab-df-convert {\n",
              "      background-color: #3B4455;\n",
              "      fill: #D2E3FC;\n",
              "    }\n",
              "\n",
              "    [theme=dark] .colab-df-convert:hover {\n",
              "      background-color: #434B5C;\n",
              "      box-shadow: 0px 1px 3px 1px rgba(0, 0, 0, 0.15);\n",
              "      filter: drop-shadow(0px 1px 2px rgba(0, 0, 0, 0.3));\n",
              "      fill: #FFFFFF;\n",
              "    }\n",
              "  </style>\n",
              "\n",
              "      <script>\n",
              "        const buttonEl =\n",
              "          document.querySelector('#df-054db3de-30bd-4ef8-a4f5-810ae2ea88d4 button.colab-df-convert');\n",
              "        buttonEl.style.display =\n",
              "          google.colab.kernel.accessAllowed ? 'block' : 'none';\n",
              "\n",
              "        async function convertToInteractive(key) {\n",
              "          const element = document.querySelector('#df-054db3de-30bd-4ef8-a4f5-810ae2ea88d4');\n",
              "          const dataTable =\n",
              "            await google.colab.kernel.invokeFunction('convertToInteractive',\n",
              "                                                     [key], {});\n",
              "          if (!dataTable) return;\n",
              "\n",
              "          const docLinkHtml = 'Like what you see? Visit the ' +\n",
              "            '<a target=\"_blank\" href=https://colab.research.google.com/notebooks/data_table.ipynb>data table notebook</a>'\n",
              "            + ' to learn more about interactive tables.';\n",
              "          element.innerHTML = '';\n",
              "          dataTable['output_type'] = 'display_data';\n",
              "          await google.colab.output.renderOutput(dataTable, element);\n",
              "          const docLink = document.createElement('div');\n",
              "          docLink.innerHTML = docLinkHtml;\n",
              "          element.appendChild(docLink);\n",
              "        }\n",
              "      </script>\n",
              "    </div>\n",
              "  </div>\n",
              "  "
            ]
          },
          "metadata": {},
          "execution_count": 232
        }
      ]
    },
    {
      "cell_type": "code",
      "source": [
        "data_cases1 = data_cases[(data_cases['announce_date'] == '1/3/2022' ) | \n",
        "          (data_cases['announce_date'] == '2/3/2022' ) | \n",
        "          (data_cases['announce_date'] == '3/3/2022' ) | \n",
        "          (data_cases['announce_date'] == '4/3/2022')] \n",
        "          \n",
        "data_cases1"
      ],
      "metadata": {
        "id": "qHsqOSZIO_xV",
        "outputId": "0db4334a-1aba-438c-f872-1ac9d6d98712",
        "colab": {
          "base_uri": "https://localhost:8080/",
          "height": 423
        }
      },
      "execution_count": 233,
      "outputs": [
        {
          "output_type": "execute_result",
          "data": {
            "text/plain": [
              "            No. announce_date Notified date   sex  age Unit nationality  \\\n",
              "22311   2891928      1/3/2022     28/2/2022   ชาย  NaN  NaN    Thailand   \n",
              "22312   2891929      1/3/2022     28/2/2022  หญิง  NaN  NaN    Thailand   \n",
              "22313   2891930      1/3/2022     28/2/2022  หญิง  NaN  NaN    Thailand   \n",
              "22314   2891931      1/3/2022     28/2/2022  หญิง  NaN  NaN    Thailand   \n",
              "22315   2891932      1/3/2022     28/2/2022  หญิง  NaN  NaN         NaN   \n",
              "...         ...           ...           ...   ...  ...  ...         ...   \n",
              "112375  2981992      4/3/2022      3/3/2022   ชาย  NaN  NaN    Thailand   \n",
              "112376  2981993      4/3/2022      3/3/2022   ชาย  NaN  NaN    Thailand   \n",
              "112377  2981994      4/3/2022      3/3/2022   ชาย  NaN  NaN    Thailand   \n",
              "112378  2981995      4/3/2022      3/3/2022   ชาย  NaN  NaN    Thailand   \n",
              "112379  2981996      4/3/2022      3/3/2022   ชาย  NaN  NaN    Thailand   \n",
              "\n",
              "       province_of_isolation                                         risk  \\\n",
              "22311             แม่ฮ่องสอน                                        อื่นๆ   \n",
              "22312             แม่ฮ่องสอน  สัมผัสใกล้ชิดกับผู้ป่วยยืนยันรายก่อนหน้านี้   \n",
              "22313             แม่ฮ่องสอน  สัมผัสใกล้ชิดกับผู้ป่วยยืนยันรายก่อนหน้านี้   \n",
              "22314             แม่ฮ่องสอน              บุคลากรด้านการแพทย์และสาธารณสุข   \n",
              "22315              เชียงใหม่                         อยู่ระหว่างการสอบสวน   \n",
              "...                      ...                                          ...   \n",
              "112375           สมุทรปราการ                             ทัณฑสถาน/เรือนจำ   \n",
              "112376           สมุทรปราการ                             ทัณฑสถาน/เรือนจำ   \n",
              "112377           สมุทรปราการ                             ทัณฑสถาน/เรือนจำ   \n",
              "112378           สมุทรปราการ                             ทัณฑสถาน/เรือนจำ   \n",
              "112379           สมุทรปราการ                             ทัณฑสถาน/เรือนจำ   \n",
              "\n",
              "       province_of_onset district_of_onset  \n",
              "22311         แม่ฮ่องสอน             เมือง  \n",
              "22312         แม่ฮ่องสอน               ปาย  \n",
              "22313         แม่ฮ่องสอน        แม่สะเรียง  \n",
              "22314         แม่ฮ่องสอน        แม่สะเรียง  \n",
              "22315          เชียงใหม่            แม่ริม  \n",
              "...                  ...               ...  \n",
              "112375       สมุทรปราการ               NaN  \n",
              "112376       สมุทรปราการ               NaN  \n",
              "112377       สมุทรปราการ               NaN  \n",
              "112378       สมุทรปราการ               NaN  \n",
              "112379       สมุทรปราการ               NaN  \n",
              "\n",
              "[90069 rows x 11 columns]"
            ],
            "text/html": [
              "\n",
              "  <div id=\"df-ac4fec6d-9b16-4f56-8f1a-5f91f76d42c2\">\n",
              "    <div class=\"colab-df-container\">\n",
              "      <div>\n",
              "<style scoped>\n",
              "    .dataframe tbody tr th:only-of-type {\n",
              "        vertical-align: middle;\n",
              "    }\n",
              "\n",
              "    .dataframe tbody tr th {\n",
              "        vertical-align: top;\n",
              "    }\n",
              "\n",
              "    .dataframe thead th {\n",
              "        text-align: right;\n",
              "    }\n",
              "</style>\n",
              "<table border=\"1\" class=\"dataframe\">\n",
              "  <thead>\n",
              "    <tr style=\"text-align: right;\">\n",
              "      <th></th>\n",
              "      <th>No.</th>\n",
              "      <th>announce_date</th>\n",
              "      <th>Notified date</th>\n",
              "      <th>sex</th>\n",
              "      <th>age</th>\n",
              "      <th>Unit</th>\n",
              "      <th>nationality</th>\n",
              "      <th>province_of_isolation</th>\n",
              "      <th>risk</th>\n",
              "      <th>province_of_onset</th>\n",
              "      <th>district_of_onset</th>\n",
              "    </tr>\n",
              "  </thead>\n",
              "  <tbody>\n",
              "    <tr>\n",
              "      <th>22311</th>\n",
              "      <td>2891928</td>\n",
              "      <td>1/3/2022</td>\n",
              "      <td>28/2/2022</td>\n",
              "      <td>ชาย</td>\n",
              "      <td>NaN</td>\n",
              "      <td>NaN</td>\n",
              "      <td>Thailand</td>\n",
              "      <td>แม่ฮ่องสอน</td>\n",
              "      <td>อื่นๆ</td>\n",
              "      <td>แม่ฮ่องสอน</td>\n",
              "      <td>เมือง</td>\n",
              "    </tr>\n",
              "    <tr>\n",
              "      <th>22312</th>\n",
              "      <td>2891929</td>\n",
              "      <td>1/3/2022</td>\n",
              "      <td>28/2/2022</td>\n",
              "      <td>หญิง</td>\n",
              "      <td>NaN</td>\n",
              "      <td>NaN</td>\n",
              "      <td>Thailand</td>\n",
              "      <td>แม่ฮ่องสอน</td>\n",
              "      <td>สัมผัสใกล้ชิดกับผู้ป่วยยืนยันรายก่อนหน้านี้</td>\n",
              "      <td>แม่ฮ่องสอน</td>\n",
              "      <td>ปาย</td>\n",
              "    </tr>\n",
              "    <tr>\n",
              "      <th>22313</th>\n",
              "      <td>2891930</td>\n",
              "      <td>1/3/2022</td>\n",
              "      <td>28/2/2022</td>\n",
              "      <td>หญิง</td>\n",
              "      <td>NaN</td>\n",
              "      <td>NaN</td>\n",
              "      <td>Thailand</td>\n",
              "      <td>แม่ฮ่องสอน</td>\n",
              "      <td>สัมผัสใกล้ชิดกับผู้ป่วยยืนยันรายก่อนหน้านี้</td>\n",
              "      <td>แม่ฮ่องสอน</td>\n",
              "      <td>แม่สะเรียง</td>\n",
              "    </tr>\n",
              "    <tr>\n",
              "      <th>22314</th>\n",
              "      <td>2891931</td>\n",
              "      <td>1/3/2022</td>\n",
              "      <td>28/2/2022</td>\n",
              "      <td>หญิง</td>\n",
              "      <td>NaN</td>\n",
              "      <td>NaN</td>\n",
              "      <td>Thailand</td>\n",
              "      <td>แม่ฮ่องสอน</td>\n",
              "      <td>บุคลากรด้านการแพทย์และสาธารณสุข</td>\n",
              "      <td>แม่ฮ่องสอน</td>\n",
              "      <td>แม่สะเรียง</td>\n",
              "    </tr>\n",
              "    <tr>\n",
              "      <th>22315</th>\n",
              "      <td>2891932</td>\n",
              "      <td>1/3/2022</td>\n",
              "      <td>28/2/2022</td>\n",
              "      <td>หญิง</td>\n",
              "      <td>NaN</td>\n",
              "      <td>NaN</td>\n",
              "      <td>NaN</td>\n",
              "      <td>เชียงใหม่</td>\n",
              "      <td>อยู่ระหว่างการสอบสวน</td>\n",
              "      <td>เชียงใหม่</td>\n",
              "      <td>แม่ริม</td>\n",
              "    </tr>\n",
              "    <tr>\n",
              "      <th>...</th>\n",
              "      <td>...</td>\n",
              "      <td>...</td>\n",
              "      <td>...</td>\n",
              "      <td>...</td>\n",
              "      <td>...</td>\n",
              "      <td>...</td>\n",
              "      <td>...</td>\n",
              "      <td>...</td>\n",
              "      <td>...</td>\n",
              "      <td>...</td>\n",
              "      <td>...</td>\n",
              "    </tr>\n",
              "    <tr>\n",
              "      <th>112375</th>\n",
              "      <td>2981992</td>\n",
              "      <td>4/3/2022</td>\n",
              "      <td>3/3/2022</td>\n",
              "      <td>ชาย</td>\n",
              "      <td>NaN</td>\n",
              "      <td>NaN</td>\n",
              "      <td>Thailand</td>\n",
              "      <td>สมุทรปราการ</td>\n",
              "      <td>ทัณฑสถาน/เรือนจำ</td>\n",
              "      <td>สมุทรปราการ</td>\n",
              "      <td>NaN</td>\n",
              "    </tr>\n",
              "    <tr>\n",
              "      <th>112376</th>\n",
              "      <td>2981993</td>\n",
              "      <td>4/3/2022</td>\n",
              "      <td>3/3/2022</td>\n",
              "      <td>ชาย</td>\n",
              "      <td>NaN</td>\n",
              "      <td>NaN</td>\n",
              "      <td>Thailand</td>\n",
              "      <td>สมุทรปราการ</td>\n",
              "      <td>ทัณฑสถาน/เรือนจำ</td>\n",
              "      <td>สมุทรปราการ</td>\n",
              "      <td>NaN</td>\n",
              "    </tr>\n",
              "    <tr>\n",
              "      <th>112377</th>\n",
              "      <td>2981994</td>\n",
              "      <td>4/3/2022</td>\n",
              "      <td>3/3/2022</td>\n",
              "      <td>ชาย</td>\n",
              "      <td>NaN</td>\n",
              "      <td>NaN</td>\n",
              "      <td>Thailand</td>\n",
              "      <td>สมุทรปราการ</td>\n",
              "      <td>ทัณฑสถาน/เรือนจำ</td>\n",
              "      <td>สมุทรปราการ</td>\n",
              "      <td>NaN</td>\n",
              "    </tr>\n",
              "    <tr>\n",
              "      <th>112378</th>\n",
              "      <td>2981995</td>\n",
              "      <td>4/3/2022</td>\n",
              "      <td>3/3/2022</td>\n",
              "      <td>ชาย</td>\n",
              "      <td>NaN</td>\n",
              "      <td>NaN</td>\n",
              "      <td>Thailand</td>\n",
              "      <td>สมุทรปราการ</td>\n",
              "      <td>ทัณฑสถาน/เรือนจำ</td>\n",
              "      <td>สมุทรปราการ</td>\n",
              "      <td>NaN</td>\n",
              "    </tr>\n",
              "    <tr>\n",
              "      <th>112379</th>\n",
              "      <td>2981996</td>\n",
              "      <td>4/3/2022</td>\n",
              "      <td>3/3/2022</td>\n",
              "      <td>ชาย</td>\n",
              "      <td>NaN</td>\n",
              "      <td>NaN</td>\n",
              "      <td>Thailand</td>\n",
              "      <td>สมุทรปราการ</td>\n",
              "      <td>ทัณฑสถาน/เรือนจำ</td>\n",
              "      <td>สมุทรปราการ</td>\n",
              "      <td>NaN</td>\n",
              "    </tr>\n",
              "  </tbody>\n",
              "</table>\n",
              "<p>90069 rows × 11 columns</p>\n",
              "</div>\n",
              "      <button class=\"colab-df-convert\" onclick=\"convertToInteractive('df-ac4fec6d-9b16-4f56-8f1a-5f91f76d42c2')\"\n",
              "              title=\"Convert this dataframe to an interactive table.\"\n",
              "              style=\"display:none;\">\n",
              "        \n",
              "  <svg xmlns=\"http://www.w3.org/2000/svg\" height=\"24px\"viewBox=\"0 0 24 24\"\n",
              "       width=\"24px\">\n",
              "    <path d=\"M0 0h24v24H0V0z\" fill=\"none\"/>\n",
              "    <path d=\"M18.56 5.44l.94 2.06.94-2.06 2.06-.94-2.06-.94-.94-2.06-.94 2.06-2.06.94zm-11 1L8.5 8.5l.94-2.06 2.06-.94-2.06-.94L8.5 2.5l-.94 2.06-2.06.94zm10 10l.94 2.06.94-2.06 2.06-.94-2.06-.94-.94-2.06-.94 2.06-2.06.94z\"/><path d=\"M17.41 7.96l-1.37-1.37c-.4-.4-.92-.59-1.43-.59-.52 0-1.04.2-1.43.59L10.3 9.45l-7.72 7.72c-.78.78-.78 2.05 0 2.83L4 21.41c.39.39.9.59 1.41.59.51 0 1.02-.2 1.41-.59l7.78-7.78 2.81-2.81c.8-.78.8-2.07 0-2.86zM5.41 20L4 18.59l7.72-7.72 1.47 1.35L5.41 20z\"/>\n",
              "  </svg>\n",
              "      </button>\n",
              "      \n",
              "  <style>\n",
              "    .colab-df-container {\n",
              "      display:flex;\n",
              "      flex-wrap:wrap;\n",
              "      gap: 12px;\n",
              "    }\n",
              "\n",
              "    .colab-df-convert {\n",
              "      background-color: #E8F0FE;\n",
              "      border: none;\n",
              "      border-radius: 50%;\n",
              "      cursor: pointer;\n",
              "      display: none;\n",
              "      fill: #1967D2;\n",
              "      height: 32px;\n",
              "      padding: 0 0 0 0;\n",
              "      width: 32px;\n",
              "    }\n",
              "\n",
              "    .colab-df-convert:hover {\n",
              "      background-color: #E2EBFA;\n",
              "      box-shadow: 0px 1px 2px rgba(60, 64, 67, 0.3), 0px 1px 3px 1px rgba(60, 64, 67, 0.15);\n",
              "      fill: #174EA6;\n",
              "    }\n",
              "\n",
              "    [theme=dark] .colab-df-convert {\n",
              "      background-color: #3B4455;\n",
              "      fill: #D2E3FC;\n",
              "    }\n",
              "\n",
              "    [theme=dark] .colab-df-convert:hover {\n",
              "      background-color: #434B5C;\n",
              "      box-shadow: 0px 1px 3px 1px rgba(0, 0, 0, 0.15);\n",
              "      filter: drop-shadow(0px 1px 2px rgba(0, 0, 0, 0.3));\n",
              "      fill: #FFFFFF;\n",
              "    }\n",
              "  </style>\n",
              "\n",
              "      <script>\n",
              "        const buttonEl =\n",
              "          document.querySelector('#df-ac4fec6d-9b16-4f56-8f1a-5f91f76d42c2 button.colab-df-convert');\n",
              "        buttonEl.style.display =\n",
              "          google.colab.kernel.accessAllowed ? 'block' : 'none';\n",
              "\n",
              "        async function convertToInteractive(key) {\n",
              "          const element = document.querySelector('#df-ac4fec6d-9b16-4f56-8f1a-5f91f76d42c2');\n",
              "          const dataTable =\n",
              "            await google.colab.kernel.invokeFunction('convertToInteractive',\n",
              "                                                     [key], {});\n",
              "          if (!dataTable) return;\n",
              "\n",
              "          const docLinkHtml = 'Like what you see? Visit the ' +\n",
              "            '<a target=\"_blank\" href=https://colab.research.google.com/notebooks/data_table.ipynb>data table notebook</a>'\n",
              "            + ' to learn more about interactive tables.';\n",
              "          element.innerHTML = '';\n",
              "          dataTable['output_type'] = 'display_data';\n",
              "          await google.colab.output.renderOutput(dataTable, element);\n",
              "          const docLink = document.createElement('div');\n",
              "          docLink.innerHTML = docLinkHtml;\n",
              "          element.appendChild(docLink);\n",
              "        }\n",
              "      </script>\n",
              "    </div>\n",
              "  </div>\n",
              "  "
            ]
          },
          "metadata": {},
          "execution_count": 233
        }
      ]
    },
    {
      "cell_type": "markdown",
      "source": [
        "เเก้ missing"
      ],
      "metadata": {
        "id": "k5R4uMkyAQyQ"
      }
    },
    {
      "cell_type": "code",
      "source": [
        "data_cases1_drop = data_cases1.dropna() #.dropna() ลบข้อมูลที่เป็น NaN ออก\n",
        "data_cases1_drop #แสดงค่าออกมา"
      ],
      "metadata": {
        "id": "bwB9DozRAMHh",
        "outputId": "1b008182-c948-4d3e-cdd5-27ee524bf8cd",
        "colab": {
          "base_uri": "https://localhost:8080/",
          "height": 423
        }
      },
      "execution_count": 234,
      "outputs": [
        {
          "output_type": "execute_result",
          "data": {
            "text/plain": [
              "            No. announce_date Notified date   sex   age Unit nationality  \\\n",
              "22835   2892452      1/3/2022     28/2/2022  หญิง  47.0   ปี    Thailand   \n",
              "22836   2892453      1/3/2022     28/2/2022  หญิง  34.0   ปี    Thailand   \n",
              "22837   2892454      1/3/2022     28/2/2022  หญิง  11.0   ปี    Thailand   \n",
              "22838   2892455      1/3/2022     28/2/2022  หญิง  20.0   ปี    Thailand   \n",
              "22839   2892456      1/3/2022     28/2/2022  หญิง  16.0   ปี    Thailand   \n",
              "...         ...           ...           ...   ...   ...  ...         ...   \n",
              "112289  2981906      4/3/2022      3/3/2022  หญิง  70.0   ปี    Thailand   \n",
              "112290  2981907      4/3/2022      3/3/2022   ชาย  64.0   ปี    Thailand   \n",
              "112291  2981908      4/3/2022      3/3/2022  หญิง  43.0   ปี    Thailand   \n",
              "112293  2981910      4/3/2022      3/3/2022  หญิง   6.0   ปี    Thailand   \n",
              "112294  2981911      4/3/2022      3/3/2022   ชาย  67.0   ปี    Thailand   \n",
              "\n",
              "       province_of_isolation                                         risk  \\\n",
              "22835                สุโขทัย                                        อื่นๆ   \n",
              "22836                สุโขทัย                                        อื่นๆ   \n",
              "22837                สุโขทัย                                        อื่นๆ   \n",
              "22838                สุโขทัย  สัมผัสใกล้ชิดกับผู้ป่วยยืนยันรายก่อนหน้านี้   \n",
              "22839                สุโขทัย                                        อื่นๆ   \n",
              "...                      ...                                          ...   \n",
              "112289         กรุงเทพมหานคร                                        อื่นๆ   \n",
              "112290         กรุงเทพมหานคร                                        อื่นๆ   \n",
              "112291         กรุงเทพมหานคร                                        อื่นๆ   \n",
              "112293         กรุงเทพมหานคร                                        อื่นๆ   \n",
              "112294         กรุงเทพมหานคร                                        อื่นๆ   \n",
              "\n",
              "       province_of_onset district_of_onset  \n",
              "22835            สุโขทัย      เมืองสุโขทัย  \n",
              "22836            สุโขทัย      เมืองสุโขทัย  \n",
              "22837            สุโขทัย      เมืองสุโขทัย  \n",
              "22838            สุโขทัย      เมืองสุโขทัย  \n",
              "22839            สุโขทัย      เมืองสุโขทัย  \n",
              "...                  ...               ...  \n",
              "112289     กรุงเทพมหานคร           สวนหลวง  \n",
              "112290     กรุงเทพมหานคร           บางซื่อ  \n",
              "112291     กรุงเทพมหานคร         ลาดกระบัง  \n",
              "112293     กรุงเทพมหานคร           ปทุมวัน  \n",
              "112294     กรุงเทพมหานคร         บางคอแหลม  \n",
              "\n",
              "[68152 rows x 11 columns]"
            ],
            "text/html": [
              "\n",
              "  <div id=\"df-cdc00e93-e7b9-41e5-b718-1af38e16d78c\">\n",
              "    <div class=\"colab-df-container\">\n",
              "      <div>\n",
              "<style scoped>\n",
              "    .dataframe tbody tr th:only-of-type {\n",
              "        vertical-align: middle;\n",
              "    }\n",
              "\n",
              "    .dataframe tbody tr th {\n",
              "        vertical-align: top;\n",
              "    }\n",
              "\n",
              "    .dataframe thead th {\n",
              "        text-align: right;\n",
              "    }\n",
              "</style>\n",
              "<table border=\"1\" class=\"dataframe\">\n",
              "  <thead>\n",
              "    <tr style=\"text-align: right;\">\n",
              "      <th></th>\n",
              "      <th>No.</th>\n",
              "      <th>announce_date</th>\n",
              "      <th>Notified date</th>\n",
              "      <th>sex</th>\n",
              "      <th>age</th>\n",
              "      <th>Unit</th>\n",
              "      <th>nationality</th>\n",
              "      <th>province_of_isolation</th>\n",
              "      <th>risk</th>\n",
              "      <th>province_of_onset</th>\n",
              "      <th>district_of_onset</th>\n",
              "    </tr>\n",
              "  </thead>\n",
              "  <tbody>\n",
              "    <tr>\n",
              "      <th>22835</th>\n",
              "      <td>2892452</td>\n",
              "      <td>1/3/2022</td>\n",
              "      <td>28/2/2022</td>\n",
              "      <td>หญิง</td>\n",
              "      <td>47.0</td>\n",
              "      <td>ปี</td>\n",
              "      <td>Thailand</td>\n",
              "      <td>สุโขทัย</td>\n",
              "      <td>อื่นๆ</td>\n",
              "      <td>สุโขทัย</td>\n",
              "      <td>เมืองสุโขทัย</td>\n",
              "    </tr>\n",
              "    <tr>\n",
              "      <th>22836</th>\n",
              "      <td>2892453</td>\n",
              "      <td>1/3/2022</td>\n",
              "      <td>28/2/2022</td>\n",
              "      <td>หญิง</td>\n",
              "      <td>34.0</td>\n",
              "      <td>ปี</td>\n",
              "      <td>Thailand</td>\n",
              "      <td>สุโขทัย</td>\n",
              "      <td>อื่นๆ</td>\n",
              "      <td>สุโขทัย</td>\n",
              "      <td>เมืองสุโขทัย</td>\n",
              "    </tr>\n",
              "    <tr>\n",
              "      <th>22837</th>\n",
              "      <td>2892454</td>\n",
              "      <td>1/3/2022</td>\n",
              "      <td>28/2/2022</td>\n",
              "      <td>หญิง</td>\n",
              "      <td>11.0</td>\n",
              "      <td>ปี</td>\n",
              "      <td>Thailand</td>\n",
              "      <td>สุโขทัย</td>\n",
              "      <td>อื่นๆ</td>\n",
              "      <td>สุโขทัย</td>\n",
              "      <td>เมืองสุโขทัย</td>\n",
              "    </tr>\n",
              "    <tr>\n",
              "      <th>22838</th>\n",
              "      <td>2892455</td>\n",
              "      <td>1/3/2022</td>\n",
              "      <td>28/2/2022</td>\n",
              "      <td>หญิง</td>\n",
              "      <td>20.0</td>\n",
              "      <td>ปี</td>\n",
              "      <td>Thailand</td>\n",
              "      <td>สุโขทัย</td>\n",
              "      <td>สัมผัสใกล้ชิดกับผู้ป่วยยืนยันรายก่อนหน้านี้</td>\n",
              "      <td>สุโขทัย</td>\n",
              "      <td>เมืองสุโขทัย</td>\n",
              "    </tr>\n",
              "    <tr>\n",
              "      <th>22839</th>\n",
              "      <td>2892456</td>\n",
              "      <td>1/3/2022</td>\n",
              "      <td>28/2/2022</td>\n",
              "      <td>หญิง</td>\n",
              "      <td>16.0</td>\n",
              "      <td>ปี</td>\n",
              "      <td>Thailand</td>\n",
              "      <td>สุโขทัย</td>\n",
              "      <td>อื่นๆ</td>\n",
              "      <td>สุโขทัย</td>\n",
              "      <td>เมืองสุโขทัย</td>\n",
              "    </tr>\n",
              "    <tr>\n",
              "      <th>...</th>\n",
              "      <td>...</td>\n",
              "      <td>...</td>\n",
              "      <td>...</td>\n",
              "      <td>...</td>\n",
              "      <td>...</td>\n",
              "      <td>...</td>\n",
              "      <td>...</td>\n",
              "      <td>...</td>\n",
              "      <td>...</td>\n",
              "      <td>...</td>\n",
              "      <td>...</td>\n",
              "    </tr>\n",
              "    <tr>\n",
              "      <th>112289</th>\n",
              "      <td>2981906</td>\n",
              "      <td>4/3/2022</td>\n",
              "      <td>3/3/2022</td>\n",
              "      <td>หญิง</td>\n",
              "      <td>70.0</td>\n",
              "      <td>ปี</td>\n",
              "      <td>Thailand</td>\n",
              "      <td>กรุงเทพมหานคร</td>\n",
              "      <td>อื่นๆ</td>\n",
              "      <td>กรุงเทพมหานคร</td>\n",
              "      <td>สวนหลวง</td>\n",
              "    </tr>\n",
              "    <tr>\n",
              "      <th>112290</th>\n",
              "      <td>2981907</td>\n",
              "      <td>4/3/2022</td>\n",
              "      <td>3/3/2022</td>\n",
              "      <td>ชาย</td>\n",
              "      <td>64.0</td>\n",
              "      <td>ปี</td>\n",
              "      <td>Thailand</td>\n",
              "      <td>กรุงเทพมหานคร</td>\n",
              "      <td>อื่นๆ</td>\n",
              "      <td>กรุงเทพมหานคร</td>\n",
              "      <td>บางซื่อ</td>\n",
              "    </tr>\n",
              "    <tr>\n",
              "      <th>112291</th>\n",
              "      <td>2981908</td>\n",
              "      <td>4/3/2022</td>\n",
              "      <td>3/3/2022</td>\n",
              "      <td>หญิง</td>\n",
              "      <td>43.0</td>\n",
              "      <td>ปี</td>\n",
              "      <td>Thailand</td>\n",
              "      <td>กรุงเทพมหานคร</td>\n",
              "      <td>อื่นๆ</td>\n",
              "      <td>กรุงเทพมหานคร</td>\n",
              "      <td>ลาดกระบัง</td>\n",
              "    </tr>\n",
              "    <tr>\n",
              "      <th>112293</th>\n",
              "      <td>2981910</td>\n",
              "      <td>4/3/2022</td>\n",
              "      <td>3/3/2022</td>\n",
              "      <td>หญิง</td>\n",
              "      <td>6.0</td>\n",
              "      <td>ปี</td>\n",
              "      <td>Thailand</td>\n",
              "      <td>กรุงเทพมหานคร</td>\n",
              "      <td>อื่นๆ</td>\n",
              "      <td>กรุงเทพมหานคร</td>\n",
              "      <td>ปทุมวัน</td>\n",
              "    </tr>\n",
              "    <tr>\n",
              "      <th>112294</th>\n",
              "      <td>2981911</td>\n",
              "      <td>4/3/2022</td>\n",
              "      <td>3/3/2022</td>\n",
              "      <td>ชาย</td>\n",
              "      <td>67.0</td>\n",
              "      <td>ปี</td>\n",
              "      <td>Thailand</td>\n",
              "      <td>กรุงเทพมหานคร</td>\n",
              "      <td>อื่นๆ</td>\n",
              "      <td>กรุงเทพมหานคร</td>\n",
              "      <td>บางคอแหลม</td>\n",
              "    </tr>\n",
              "  </tbody>\n",
              "</table>\n",
              "<p>68152 rows × 11 columns</p>\n",
              "</div>\n",
              "      <button class=\"colab-df-convert\" onclick=\"convertToInteractive('df-cdc00e93-e7b9-41e5-b718-1af38e16d78c')\"\n",
              "              title=\"Convert this dataframe to an interactive table.\"\n",
              "              style=\"display:none;\">\n",
              "        \n",
              "  <svg xmlns=\"http://www.w3.org/2000/svg\" height=\"24px\"viewBox=\"0 0 24 24\"\n",
              "       width=\"24px\">\n",
              "    <path d=\"M0 0h24v24H0V0z\" fill=\"none\"/>\n",
              "    <path d=\"M18.56 5.44l.94 2.06.94-2.06 2.06-.94-2.06-.94-.94-2.06-.94 2.06-2.06.94zm-11 1L8.5 8.5l.94-2.06 2.06-.94-2.06-.94L8.5 2.5l-.94 2.06-2.06.94zm10 10l.94 2.06.94-2.06 2.06-.94-2.06-.94-.94-2.06-.94 2.06-2.06.94z\"/><path d=\"M17.41 7.96l-1.37-1.37c-.4-.4-.92-.59-1.43-.59-.52 0-1.04.2-1.43.59L10.3 9.45l-7.72 7.72c-.78.78-.78 2.05 0 2.83L4 21.41c.39.39.9.59 1.41.59.51 0 1.02-.2 1.41-.59l7.78-7.78 2.81-2.81c.8-.78.8-2.07 0-2.86zM5.41 20L4 18.59l7.72-7.72 1.47 1.35L5.41 20z\"/>\n",
              "  </svg>\n",
              "      </button>\n",
              "      \n",
              "  <style>\n",
              "    .colab-df-container {\n",
              "      display:flex;\n",
              "      flex-wrap:wrap;\n",
              "      gap: 12px;\n",
              "    }\n",
              "\n",
              "    .colab-df-convert {\n",
              "      background-color: #E8F0FE;\n",
              "      border: none;\n",
              "      border-radius: 50%;\n",
              "      cursor: pointer;\n",
              "      display: none;\n",
              "      fill: #1967D2;\n",
              "      height: 32px;\n",
              "      padding: 0 0 0 0;\n",
              "      width: 32px;\n",
              "    }\n",
              "\n",
              "    .colab-df-convert:hover {\n",
              "      background-color: #E2EBFA;\n",
              "      box-shadow: 0px 1px 2px rgba(60, 64, 67, 0.3), 0px 1px 3px 1px rgba(60, 64, 67, 0.15);\n",
              "      fill: #174EA6;\n",
              "    }\n",
              "\n",
              "    [theme=dark] .colab-df-convert {\n",
              "      background-color: #3B4455;\n",
              "      fill: #D2E3FC;\n",
              "    }\n",
              "\n",
              "    [theme=dark] .colab-df-convert:hover {\n",
              "      background-color: #434B5C;\n",
              "      box-shadow: 0px 1px 3px 1px rgba(0, 0, 0, 0.15);\n",
              "      filter: drop-shadow(0px 1px 2px rgba(0, 0, 0, 0.3));\n",
              "      fill: #FFFFFF;\n",
              "    }\n",
              "  </style>\n",
              "\n",
              "      <script>\n",
              "        const buttonEl =\n",
              "          document.querySelector('#df-cdc00e93-e7b9-41e5-b718-1af38e16d78c button.colab-df-convert');\n",
              "        buttonEl.style.display =\n",
              "          google.colab.kernel.accessAllowed ? 'block' : 'none';\n",
              "\n",
              "        async function convertToInteractive(key) {\n",
              "          const element = document.querySelector('#df-cdc00e93-e7b9-41e5-b718-1af38e16d78c');\n",
              "          const dataTable =\n",
              "            await google.colab.kernel.invokeFunction('convertToInteractive',\n",
              "                                                     [key], {});\n",
              "          if (!dataTable) return;\n",
              "\n",
              "          const docLinkHtml = 'Like what you see? Visit the ' +\n",
              "            '<a target=\"_blank\" href=https://colab.research.google.com/notebooks/data_table.ipynb>data table notebook</a>'\n",
              "            + ' to learn more about interactive tables.';\n",
              "          element.innerHTML = '';\n",
              "          dataTable['output_type'] = 'display_data';\n",
              "          await google.colab.output.renderOutput(dataTable, element);\n",
              "          const docLink = document.createElement('div');\n",
              "          docLink.innerHTML = docLinkHtml;\n",
              "          element.appendChild(docLink);\n",
              "        }\n",
              "      </script>\n",
              "    </div>\n",
              "  </div>\n",
              "  "
            ]
          },
          "metadata": {},
          "execution_count": 234
        }
      ]
    },
    {
      "cell_type": "code",
      "source": [
        "data_cases1_drop.isnull().any()"
      ],
      "metadata": {
        "id": "j8M8u4GfSM-n",
        "outputId": "bcd65277-cf1f-4173-e44e-7e56d1b4543f",
        "colab": {
          "base_uri": "https://localhost:8080/"
        }
      },
      "execution_count": 235,
      "outputs": [
        {
          "output_type": "execute_result",
          "data": {
            "text/plain": [
              "No.                      False\n",
              "announce_date            False\n",
              "Notified date            False\n",
              "sex                      False\n",
              "age                      False\n",
              "Unit                     False\n",
              "nationality              False\n",
              "province_of_isolation    False\n",
              "risk                     False\n",
              "province_of_onset        False\n",
              "district_of_onset        False\n",
              "dtype: bool"
            ]
          },
          "metadata": {},
          "execution_count": 235
        }
      ]
    },
    {
      "cell_type": "code",
      "source": [
        "data_cases1_drop['province_of_onset'].replace({'ขานุวรลักษณ์บุรี':'กำแพงเพชร','กรุงเทพมหานคร.':'กรุงเทพมหานคร','กำแพงเพชร\\xa0':'กำแพงเพชร','ชลบุรี\\xa0':'ชลบุรี','ตราด\\xa0':'ตราด','นครปฐม\\xa0':'นครปฐม','นครนายก':'นครยายก','นครราชศรีมา':'นครราชสีมา','นครราชสีมา\\xa0':'นครราชสีมา','นครสวรรค์\\xa0':'นครสวรรค์','บุรีรัมย์\\xa0':'บุรีรัมย์','ปทุมธานี\\xa0':'ปทุมธานี','พิษณุโลก\\xa0':'พิษณุโลก','ลพบุรี\\xa0':'ลพบุรี','สมุทรปราการ\\xa0':'สมุทรปราการ','ปัตตนรี':'ปัตตานี','สมุทสาคร':'สมุทรสาคร','สุราษฏร์ธานี':'สุราษฎร์ธานี','สมุทiสาคร':'สมุทรสาคร','สุโขทัย\\xa0':'สุโขทัย','อุดรธานี\\xa0':'อุดรธานี','อุบลราชธานี\\xa0':'อุบลราชธานี','เพชรบูรณ์\\xa0':'เพชรบูรณ์','อยุทธยา':'อยุธยา','เชิงเทรา':'ฉะเชิงเทรา','พระนครศรีอยุธยา':'อยุธยา'},inplace=True)"
      ],
      "metadata": {
        "id": "iMOZTaRkAWIW",
        "outputId": "2e6e035e-e66d-48aa-f001-03b4452e6475",
        "colab": {
          "base_uri": "https://localhost:8080/"
        }
      },
      "execution_count": 236,
      "outputs": [
        {
          "output_type": "stream",
          "name": "stderr",
          "text": [
            "/usr/local/lib/python3.7/dist-packages/pandas/core/generic.py:6619: SettingWithCopyWarning: \n",
            "A value is trying to be set on a copy of a slice from a DataFrame\n",
            "\n",
            "See the caveats in the documentation: https://pandas.pydata.org/pandas-docs/stable/user_guide/indexing.html#returning-a-view-versus-a-copy\n",
            "  return self._update_inplace(result)\n"
          ]
        }
      ]
    },
    {
      "cell_type": "code",
      "source": [
        "set(data_cases1_drop['province_of_onset']) #เลือกให้ข้อมูล เเสดงออกมาเป็น list เเละเเสดงเช็คดูของมูลที่เป็น string ว่ามีค่าซ้ำกันหรือไม่"
      ],
      "metadata": {
        "id": "wdeoQQ3aAWGP",
        "outputId": "9374b150-9a72-4cec-b4ba-0107a776dfd6",
        "colab": {
          "base_uri": "https://localhost:8080/"
        }
      },
      "execution_count": 237,
      "outputs": [
        {
          "output_type": "execute_result",
          "data": {
            "text/plain": [
              "{'กระบี่',\n",
              " 'กรุงเทพมหานคร',\n",
              " 'กาญจนบุรี',\n",
              " 'กาฬสินธุ์',\n",
              " 'กำแพงเพชร',\n",
              " 'ขอนแก่น',\n",
              " 'จันทบุรี',\n",
              " 'ฉะเชิงเทรา',\n",
              " 'ชลบุรี',\n",
              " 'ชัยนาท',\n",
              " 'ชัยภูมิ',\n",
              " 'ชุมพร',\n",
              " 'ตรัง',\n",
              " 'ตราด',\n",
              " 'ตาก',\n",
              " 'นครปฐม',\n",
              " 'นครพนม',\n",
              " 'นครยายก',\n",
              " 'นครราชสีมา',\n",
              " 'นครศรีธรรมราช',\n",
              " 'นครสวรรค์',\n",
              " 'นนทบุรี',\n",
              " 'นราธิวาส',\n",
              " 'นอกเขต',\n",
              " 'น่าน',\n",
              " 'บึงกาฬ',\n",
              " 'บุรีรัมย์',\n",
              " 'ปทุมธานี',\n",
              " 'ประจวบคีรีขันธ์',\n",
              " 'ปราจีนบุรี',\n",
              " 'ปัตตานี',\n",
              " 'พะเยา',\n",
              " 'พังงา',\n",
              " 'พัทลุง',\n",
              " 'พิจิตร',\n",
              " 'พิษณุโลก',\n",
              " 'ภูเก็ต',\n",
              " 'มหาสารคาม',\n",
              " 'มุกดาหาร',\n",
              " 'ยะลา',\n",
              " 'ยโสธร',\n",
              " 'ระนอง',\n",
              " 'ระยอง',\n",
              " 'ราชบุรี',\n",
              " 'ร้อยเอ็ด',\n",
              " 'ลพบุรี',\n",
              " 'ลำปาง',\n",
              " 'ลำพูน',\n",
              " 'ศรีสะเกษ',\n",
              " 'สกลนคร',\n",
              " 'สงขลา',\n",
              " 'สตูล',\n",
              " 'สมุทรปราการ',\n",
              " 'สมุทรสงคราม',\n",
              " 'สมุทรสาคร',\n",
              " 'สระบุรี',\n",
              " 'สระแก้ว',\n",
              " 'สิงห์บุรี',\n",
              " 'สุพรรณบุรี',\n",
              " 'สุราษฎร์ธานี',\n",
              " 'สุรินทร์',\n",
              " 'สุโขทัย',\n",
              " 'หนองคาย',\n",
              " 'หนองบัวลำภู',\n",
              " 'อยุธยา',\n",
              " 'อำนาจเจริญ',\n",
              " 'อุดรธานี',\n",
              " 'อุตรดิตถ์',\n",
              " 'อุทัยธานี',\n",
              " 'อุบลราชธานี',\n",
              " 'อ่างทอง',\n",
              " 'เชียงราย',\n",
              " 'เชียงใหม่',\n",
              " 'เพชรบุรี',\n",
              " 'เพชรบูรณ์',\n",
              " 'เลย',\n",
              " 'แพร่',\n",
              " 'แม่ฮ่องสอน'}"
            ]
          },
          "metadata": {},
          "execution_count": 237
        }
      ]
    },
    {
      "cell_type": "code",
      "source": [
        "data_gb = data_cases1_drop.groupby('province_of_onset')['No.'].count() #โดยการเเบ่งกลุ่มเเต่ละจังหวัดว่ามีกี่คน เเละ .count เพื่อนำมานับจำนวนสมาชิกในตาราง pandans\n",
        "df_gb1 = pd.DataFrame(data_gb)\n",
        "df_gb2_noindex = df_gb1.reset_index() #reset_index ใช้เพื่อสำหรับลบช่องว่าง\n",
        "df_gb2_noindex"
      ],
      "metadata": {
        "id": "ApcPg4-iB9mY",
        "outputId": "2352d612-b787-424a-be08-0378dcddb1b4",
        "colab": {
          "base_uri": "https://localhost:8080/",
          "height": 423
        }
      },
      "execution_count": 238,
      "outputs": [
        {
          "output_type": "execute_result",
          "data": {
            "text/plain": [
              "   province_of_onset   No.\n",
              "0             กระบี่   547\n",
              "1      กรุงเทพมหานคร  8834\n",
              "2          กาญจนบุรี   474\n",
              "3          กาฬสินธุ์   792\n",
              "4          กำแพงเพชร   738\n",
              "..               ...   ...\n",
              "73          เพชรบุรี   535\n",
              "74         เพชรบูรณ์   528\n",
              "75               เลย   288\n",
              "76              แพร่   130\n",
              "77        แม่ฮ่องสอน     7\n",
              "\n",
              "[78 rows x 2 columns]"
            ],
            "text/html": [
              "\n",
              "  <div id=\"df-72554b24-6406-48f6-aadb-d4e26a8e9d66\">\n",
              "    <div class=\"colab-df-container\">\n",
              "      <div>\n",
              "<style scoped>\n",
              "    .dataframe tbody tr th:only-of-type {\n",
              "        vertical-align: middle;\n",
              "    }\n",
              "\n",
              "    .dataframe tbody tr th {\n",
              "        vertical-align: top;\n",
              "    }\n",
              "\n",
              "    .dataframe thead th {\n",
              "        text-align: right;\n",
              "    }\n",
              "</style>\n",
              "<table border=\"1\" class=\"dataframe\">\n",
              "  <thead>\n",
              "    <tr style=\"text-align: right;\">\n",
              "      <th></th>\n",
              "      <th>province_of_onset</th>\n",
              "      <th>No.</th>\n",
              "    </tr>\n",
              "  </thead>\n",
              "  <tbody>\n",
              "    <tr>\n",
              "      <th>0</th>\n",
              "      <td>กระบี่</td>\n",
              "      <td>547</td>\n",
              "    </tr>\n",
              "    <tr>\n",
              "      <th>1</th>\n",
              "      <td>กรุงเทพมหานคร</td>\n",
              "      <td>8834</td>\n",
              "    </tr>\n",
              "    <tr>\n",
              "      <th>2</th>\n",
              "      <td>กาญจนบุรี</td>\n",
              "      <td>474</td>\n",
              "    </tr>\n",
              "    <tr>\n",
              "      <th>3</th>\n",
              "      <td>กาฬสินธุ์</td>\n",
              "      <td>792</td>\n",
              "    </tr>\n",
              "    <tr>\n",
              "      <th>4</th>\n",
              "      <td>กำแพงเพชร</td>\n",
              "      <td>738</td>\n",
              "    </tr>\n",
              "    <tr>\n",
              "      <th>...</th>\n",
              "      <td>...</td>\n",
              "      <td>...</td>\n",
              "    </tr>\n",
              "    <tr>\n",
              "      <th>73</th>\n",
              "      <td>เพชรบุรี</td>\n",
              "      <td>535</td>\n",
              "    </tr>\n",
              "    <tr>\n",
              "      <th>74</th>\n",
              "      <td>เพชรบูรณ์</td>\n",
              "      <td>528</td>\n",
              "    </tr>\n",
              "    <tr>\n",
              "      <th>75</th>\n",
              "      <td>เลย</td>\n",
              "      <td>288</td>\n",
              "    </tr>\n",
              "    <tr>\n",
              "      <th>76</th>\n",
              "      <td>แพร่</td>\n",
              "      <td>130</td>\n",
              "    </tr>\n",
              "    <tr>\n",
              "      <th>77</th>\n",
              "      <td>แม่ฮ่องสอน</td>\n",
              "      <td>7</td>\n",
              "    </tr>\n",
              "  </tbody>\n",
              "</table>\n",
              "<p>78 rows × 2 columns</p>\n",
              "</div>\n",
              "      <button class=\"colab-df-convert\" onclick=\"convertToInteractive('df-72554b24-6406-48f6-aadb-d4e26a8e9d66')\"\n",
              "              title=\"Convert this dataframe to an interactive table.\"\n",
              "              style=\"display:none;\">\n",
              "        \n",
              "  <svg xmlns=\"http://www.w3.org/2000/svg\" height=\"24px\"viewBox=\"0 0 24 24\"\n",
              "       width=\"24px\">\n",
              "    <path d=\"M0 0h24v24H0V0z\" fill=\"none\"/>\n",
              "    <path d=\"M18.56 5.44l.94 2.06.94-2.06 2.06-.94-2.06-.94-.94-2.06-.94 2.06-2.06.94zm-11 1L8.5 8.5l.94-2.06 2.06-.94-2.06-.94L8.5 2.5l-.94 2.06-2.06.94zm10 10l.94 2.06.94-2.06 2.06-.94-2.06-.94-.94-2.06-.94 2.06-2.06.94z\"/><path d=\"M17.41 7.96l-1.37-1.37c-.4-.4-.92-.59-1.43-.59-.52 0-1.04.2-1.43.59L10.3 9.45l-7.72 7.72c-.78.78-.78 2.05 0 2.83L4 21.41c.39.39.9.59 1.41.59.51 0 1.02-.2 1.41-.59l7.78-7.78 2.81-2.81c.8-.78.8-2.07 0-2.86zM5.41 20L4 18.59l7.72-7.72 1.47 1.35L5.41 20z\"/>\n",
              "  </svg>\n",
              "      </button>\n",
              "      \n",
              "  <style>\n",
              "    .colab-df-container {\n",
              "      display:flex;\n",
              "      flex-wrap:wrap;\n",
              "      gap: 12px;\n",
              "    }\n",
              "\n",
              "    .colab-df-convert {\n",
              "      background-color: #E8F0FE;\n",
              "      border: none;\n",
              "      border-radius: 50%;\n",
              "      cursor: pointer;\n",
              "      display: none;\n",
              "      fill: #1967D2;\n",
              "      height: 32px;\n",
              "      padding: 0 0 0 0;\n",
              "      width: 32px;\n",
              "    }\n",
              "\n",
              "    .colab-df-convert:hover {\n",
              "      background-color: #E2EBFA;\n",
              "      box-shadow: 0px 1px 2px rgba(60, 64, 67, 0.3), 0px 1px 3px 1px rgba(60, 64, 67, 0.15);\n",
              "      fill: #174EA6;\n",
              "    }\n",
              "\n",
              "    [theme=dark] .colab-df-convert {\n",
              "      background-color: #3B4455;\n",
              "      fill: #D2E3FC;\n",
              "    }\n",
              "\n",
              "    [theme=dark] .colab-df-convert:hover {\n",
              "      background-color: #434B5C;\n",
              "      box-shadow: 0px 1px 3px 1px rgba(0, 0, 0, 0.15);\n",
              "      filter: drop-shadow(0px 1px 2px rgba(0, 0, 0, 0.3));\n",
              "      fill: #FFFFFF;\n",
              "    }\n",
              "  </style>\n",
              "\n",
              "      <script>\n",
              "        const buttonEl =\n",
              "          document.querySelector('#df-72554b24-6406-48f6-aadb-d4e26a8e9d66 button.colab-df-convert');\n",
              "        buttonEl.style.display =\n",
              "          google.colab.kernel.accessAllowed ? 'block' : 'none';\n",
              "\n",
              "        async function convertToInteractive(key) {\n",
              "          const element = document.querySelector('#df-72554b24-6406-48f6-aadb-d4e26a8e9d66');\n",
              "          const dataTable =\n",
              "            await google.colab.kernel.invokeFunction('convertToInteractive',\n",
              "                                                     [key], {});\n",
              "          if (!dataTable) return;\n",
              "\n",
              "          const docLinkHtml = 'Like what you see? Visit the ' +\n",
              "            '<a target=\"_blank\" href=https://colab.research.google.com/notebooks/data_table.ipynb>data table notebook</a>'\n",
              "            + ' to learn more about interactive tables.';\n",
              "          element.innerHTML = '';\n",
              "          dataTable['output_type'] = 'display_data';\n",
              "          await google.colab.output.renderOutput(dataTable, element);\n",
              "          const docLink = document.createElement('div');\n",
              "          docLink.innerHTML = docLinkHtml;\n",
              "          element.appendChild(docLink);\n",
              "        }\n",
              "      </script>\n",
              "    </div>\n",
              "  </div>\n",
              "  "
            ]
          },
          "metadata": {},
          "execution_count": 238
        }
      ]
    },
    {
      "cell_type": "code",
      "source": [
        "!wget -q https://github.com/Phonbopit/sarabun-webfont/raw/master/fonts/thsarabunnew-webfont.ttf # !wget คือ ดาวน์โหลด font ! คือ unit command"
      ],
      "metadata": {
        "id": "y1aINz3WGU3j"
      },
      "execution_count": 239,
      "outputs": []
    },
    {
      "cell_type": "code",
      "source": [
        "!ls # list files ทั้งหมด"
      ],
      "metadata": {
        "id": "0Tm4KbxAB9kC",
        "outputId": "ffec3342-9529-442f-ecac-3b1f84945b57",
        "colab": {
          "base_uri": "https://localhost:8080/"
        }
      },
      "execution_count": 240,
      "outputs": [
        {
          "output_type": "stream",
          "name": "stdout",
          "text": [
            "drive\t     thsarabunnew-webfont.ttf\t thsarabunnew-webfont.ttf.2\n",
            "sample_data  thsarabunnew-webfont.ttf.1\n"
          ]
        }
      ]
    },
    {
      "cell_type": "code",
      "source": [
        "import matplotlib as mpl # ให้ matplotlib เรียกว่า mpl\n",
        "mpl.font_manager.fontManager.addfont('thsarabunnew-webfont.ttf') # ทำการใส่ font\n",
        "mpl.rc('font', family='TH Sarabun New') # ทำการใส่ font\n"
      ],
      "metadata": {
        "id": "UI2InOJbEaZ_"
      },
      "execution_count": 241,
      "outputs": []
    },
    {
      "cell_type": "code",
      "source": [
        "\n",
        "!pip install squarify\n",
        "import matplotlib.pyplot as plt # เรียกใช้ package ไว้พร็อตกราฟ\n",
        "import squarify # เอาไว้พร็อต tree map\n",
        "import matplotlib"
      ],
      "metadata": {
        "id": "J-jXeIriEj8j",
        "outputId": "b4601bc9-b619-4f6d-dbda-a47876d89e9d",
        "colab": {
          "base_uri": "https://localhost:8080/"
        }
      },
      "execution_count": 242,
      "outputs": [
        {
          "output_type": "stream",
          "name": "stdout",
          "text": [
            "Requirement already satisfied: squarify in /usr/local/lib/python3.7/dist-packages (0.4.3)\n"
          ]
        }
      ]
    },
    {
      "cell_type": "code",
      "source": [
        "cmap = matplotlib.cm.Reds\n",
        "norm = matplotlib.colors.Normalize(vmin=min(df_gb2_noindex['No.']), vmax=max(df_gb2_noindex['No.']))\n",
        "colors = [cmap(norm(value)) for value in df_gb2_noindex['No.']]"
      ],
      "metadata": {
        "id": "DkY9_HD4Em7e"
      },
      "execution_count": 243,
      "outputs": []
    },
    {
      "cell_type": "code",
      "source": [
        "fig = plt.gcf() \n",
        "fig.set_size_inches(30, 17)\n",
        "\n",
        "squarify.plot(df_gb2_noindex['No.'],label=df_gb2_noindex['province_of_onset'],color=colors,pad=True) # พร็อต tree map\n",
        "plt.title('ปริมาณผู้ติดเชื้อ covid-19 ของแต่ละจังหวัดในประเทศไทย ในวันที่ 1-4 มีนาคม 2565',fontsize=20)\n",
        "plt.axis('off')"
      ],
      "metadata": {
        "id": "HGqCrmXoEm1U",
        "outputId": "44cf83f8-4656-434c-c3e0-fcb6cd2214c0",
        "colab": {
          "base_uri": "https://localhost:8080/",
          "height": 946
        }
      },
      "execution_count": 257,
      "outputs": [
        {
          "output_type": "execute_result",
          "data": {
            "text/plain": [
              "(0.0, 100.0, 0.0, 100.0)"
            ]
          },
          "metadata": {},
          "execution_count": 257
        },
        {
          "output_type": "display_data",
          "data": {
            "text/plain": [
              "<Figure size 2160x1224 with 1 Axes>"
            ],
            "image/png": "[encoded data removed]"
          },
          "metadata": {
            "needs_background": "light"
          }
        }
      ]
    },
    {
      "cell_type": "markdown",
      "source": [
        "# Spyder (Radar) Chart"
      ],
      "metadata": {
        "id": "DQOXuNFCAdc6"
      }
    },
    {
      "cell_type": "code",
      "source": [
        "import numpy as np\n",
        "import pandas as pd  #import pandas มาเพราะข้อมูลจะเกี่ยวกับตาราง\n",
        "\n",
        "import matplotlib.pyplot as plt\n",
        "from math import pi #import math มาเนื่องจากเกี่ยวกับวงกลมนำมาใช้เพื่อดึงค่าพาย"
      ],
      "metadata": {
        "id": "vC1qb22w-fGN"
      },
      "execution_count": 246,
      "outputs": []
    },
    {
      "cell_type": "code",
      "source": [
        "data = {'client_id' : ['c1' , 'c2' , 'c3' , 'c4'],\n",
        "         'Math' : [10,5,4,7],\n",
        "         'Eng' : [7,1,3,5],\n",
        "         'Friendly' : [4,8,10,4],\n",
        "        'Look' : [4,8,7,6],\n",
        "       'Money' : [2,10,5,9]}\n",
        "df = pd.DataFrame.from_dict(data)\n",
        "df"
      ],
      "metadata": {
        "id": "PTYtPQ3kBh_R",
        "outputId": "4366af57-a620-4982-f582-633cca3288a4",
        "colab": {
          "base_uri": "https://localhost:8080/",
          "height": 0
        }
      },
      "execution_count": 247,
      "outputs": [
        {
          "output_type": "execute_result",
          "data": {
            "text/plain": [
              "  client_id  Math  Eng  Friendly  Look  Money\n",
              "0        c1    10    7         4     4      2\n",
              "1        c2     5    1         8     8     10\n",
              "2        c3     4    3        10     7      5\n",
              "3        c4     7    5         4     6      9"
            ],
            "text/html": [
              "\n",
              "  <div id=\"df-65b12b27-5557-461e-8670-e38a8c84b9e7\">\n",
              "    <div class=\"colab-df-container\">\n",
              "      <div>\n",
              "<style scoped>\n",
              "    .dataframe tbody tr th:only-of-type {\n",
              "        vertical-align: middle;\n",
              "    }\n",
              "\n",
              "    .dataframe tbody tr th {\n",
              "        vertical-align: top;\n",
              "    }\n",
              "\n",
              "    .dataframe thead th {\n",
              "        text-align: right;\n",
              "    }\n",
              "</style>\n",
              "<table border=\"1\" class=\"dataframe\">\n",
              "  <thead>\n",
              "    <tr style=\"text-align: right;\">\n",
              "      <th></th>\n",
              "      <th>client_id</th>\n",
              "      <th>Math</th>\n",
              "      <th>Eng</th>\n",
              "      <th>Friendly</th>\n",
              "      <th>Look</th>\n",
              "      <th>Money</th>\n",
              "    </tr>\n",
              "  </thead>\n",
              "  <tbody>\n",
              "    <tr>\n",
              "      <th>0</th>\n",
              "      <td>c1</td>\n",
              "      <td>10</td>\n",
              "      <td>7</td>\n",
              "      <td>4</td>\n",
              "      <td>4</td>\n",
              "      <td>2</td>\n",
              "    </tr>\n",
              "    <tr>\n",
              "      <th>1</th>\n",
              "      <td>c2</td>\n",
              "      <td>5</td>\n",
              "      <td>1</td>\n",
              "      <td>8</td>\n",
              "      <td>8</td>\n",
              "      <td>10</td>\n",
              "    </tr>\n",
              "    <tr>\n",
              "      <th>2</th>\n",
              "      <td>c3</td>\n",
              "      <td>4</td>\n",
              "      <td>3</td>\n",
              "      <td>10</td>\n",
              "      <td>7</td>\n",
              "      <td>5</td>\n",
              "    </tr>\n",
              "    <tr>\n",
              "      <th>3</th>\n",
              "      <td>c4</td>\n",
              "      <td>7</td>\n",
              "      <td>5</td>\n",
              "      <td>4</td>\n",
              "      <td>6</td>\n",
              "      <td>9</td>\n",
              "    </tr>\n",
              "  </tbody>\n",
              "</table>\n",
              "</div>\n",
              "      <button class=\"colab-df-convert\" onclick=\"convertToInteractive('df-65b12b27-5557-461e-8670-e38a8c84b9e7')\"\n",
              "              title=\"Convert this dataframe to an interactive table.\"\n",
              "              style=\"display:none;\">\n",
              "        \n",
              "  <svg xmlns=\"http://www.w3.org/2000/svg\" height=\"24px\"viewBox=\"0 0 24 24\"\n",
              "       width=\"24px\">\n",
              "    <path d=\"M0 0h24v24H0V0z\" fill=\"none\"/>\n",
              "    <path d=\"M18.56 5.44l.94 2.06.94-2.06 2.06-.94-2.06-.94-.94-2.06-.94 2.06-2.06.94zm-11 1L8.5 8.5l.94-2.06 2.06-.94-2.06-.94L8.5 2.5l-.94 2.06-2.06.94zm10 10l.94 2.06.94-2.06 2.06-.94-2.06-.94-.94-2.06-.94 2.06-2.06.94z\"/><path d=\"M17.41 7.96l-1.37-1.37c-.4-.4-.92-.59-1.43-.59-.52 0-1.04.2-1.43.59L10.3 9.45l-7.72 7.72c-.78.78-.78 2.05 0 2.83L4 21.41c.39.39.9.59 1.41.59.51 0 1.02-.2 1.41-.59l7.78-7.78 2.81-2.81c.8-.78.8-2.07 0-2.86zM5.41 20L4 18.59l7.72-7.72 1.47 1.35L5.41 20z\"/>\n",
              "  </svg>\n",
              "      </button>\n",
              "      \n",
              "  <style>\n",
              "    .colab-df-container {\n",
              "      display:flex;\n",
              "      flex-wrap:wrap;\n",
              "      gap: 12px;\n",
              "    }\n",
              "\n",
              "    .colab-df-convert {\n",
              "      background-color: #E8F0FE;\n",
              "      border: none;\n",
              "      border-radius: 50%;\n",
              "      cursor: pointer;\n",
              "      display: none;\n",
              "      fill: #1967D2;\n",
              "      height: 32px;\n",
              "      padding: 0 0 0 0;\n",
              "      width: 32px;\n",
              "    }\n",
              "\n",
              "    .colab-df-convert:hover {\n",
              "      background-color: #E2EBFA;\n",
              "      box-shadow: 0px 1px 2px rgba(60, 64, 67, 0.3), 0px 1px 3px 1px rgba(60, 64, 67, 0.15);\n",
              "      fill: #174EA6;\n",
              "    }\n",
              "\n",
              "    [theme=dark] .colab-df-convert {\n",
              "      background-color: #3B4455;\n",
              "      fill: #D2E3FC;\n",
              "    }\n",
              "\n",
              "    [theme=dark] .colab-df-convert:hover {\n",
              "      background-color: #434B5C;\n",
              "      box-shadow: 0px 1px 3px 1px rgba(0, 0, 0, 0.15);\n",
              "      filter: drop-shadow(0px 1px 2px rgba(0, 0, 0, 0.3));\n",
              "      fill: #FFFFFF;\n",
              "    }\n",
              "  </style>\n",
              "\n",
              "      <script>\n",
              "        const buttonEl =\n",
              "          document.querySelector('#df-65b12b27-5557-461e-8670-e38a8c84b9e7 button.colab-df-convert');\n",
              "        buttonEl.style.display =\n",
              "          google.colab.kernel.accessAllowed ? 'block' : 'none';\n",
              "\n",
              "        async function convertToInteractive(key) {\n",
              "          const element = document.querySelector('#df-65b12b27-5557-461e-8670-e38a8c84b9e7');\n",
              "          const dataTable =\n",
              "            await google.colab.kernel.invokeFunction('convertToInteractive',\n",
              "                                                     [key], {});\n",
              "          if (!dataTable) return;\n",
              "\n",
              "          const docLinkHtml = 'Like what you see? Visit the ' +\n",
              "            '<a target=\"_blank\" href=https://colab.research.google.com/notebooks/data_table.ipynb>data table notebook</a>'\n",
              "            + ' to learn more about interactive tables.';\n",
              "          element.innerHTML = '';\n",
              "          dataTable['output_type'] = 'display_data';\n",
              "          await google.colab.output.renderOutput(dataTable, element);\n",
              "          const docLink = document.createElement('div');\n",
              "          docLink.innerHTML = docLinkHtml;\n",
              "          element.appendChild(docLink);\n",
              "        }\n",
              "      </script>\n",
              "    </div>\n",
              "  </div>\n",
              "  "
            ]
          },
          "metadata": {},
          "execution_count": 247
        }
      ]
    },
    {
      "cell_type": "code",
      "source": [
        "categories = list(df.columns[1:])\n",
        "categories"
      ],
      "metadata": {
        "id": "w-KYmdtJB8uj",
        "outputId": "23bd1744-f3ab-4438-ade4-c60494b0150b",
        "colab": {
          "base_uri": "https://localhost:8080/"
        }
      },
      "execution_count": 248,
      "outputs": [
        {
          "output_type": "execute_result",
          "data": {
            "text/plain": [
              "['Math', 'Eng', 'Friendly', 'Look', 'Money']"
            ]
          },
          "metadata": {},
          "execution_count": 248
        }
      ]
    },
    {
      "cell_type": "markdown",
      "source": [
        "## plot ค่า mean"
      ],
      "metadata": {
        "id": "OABiNmrDEWoT"
      }
    },
    {
      "cell_type": "code",
      "source": [
        "values = df.mean().values.flatten().tolist()\n",
        "values += values[:1] # repeat the first value to close the circular graph\n",
        "angles = [n / float(len(categories)) * 2 * pi for n in range(len(categories))]\n",
        "angles += angles[:1]"
      ],
      "metadata": {
        "id": "-cpFD1G4C4RW",
        "outputId": "eb80bcc7-bbc8-4596-b533-453c4df94701",
        "colab": {
          "base_uri": "https://localhost:8080/"
        }
      },
      "execution_count": 249,
      "outputs": [
        {
          "output_type": "stream",
          "name": "stderr",
          "text": [
            "/usr/local/lib/python3.7/dist-packages/ipykernel_launcher.py:1: FutureWarning: Dropping of nuisance columns in DataFrame reductions (with 'numeric_only=None') is deprecated; in a future version this will raise TypeError.  Select only valid columns before calling the reduction.\n",
            "  \"\"\"Entry point for launching an IPython kernel.\n"
          ]
        }
      ]
    },
    {
      "cell_type": "code",
      "source": [
        "fig, ax = plt.subplots(nrows=1, ncols=1, figsize=(8, 8),\n",
        "                       subplot_kw=dict(polar=True))\n",
        "\n",
        "plt.xticks(angles[:-1], categories, color='grey', size=12)\n",
        "plt.yticks(np.arange(1, 10), ['1', '2', '3', '4', '5','6','7','8','9','10'],\n",
        "           color='grey', size=12)\n",
        "\n",
        "plt.ylim(0, 10)\n",
        "ax.set_rlabel_position(30)\n",
        "\n",
        "ax.plot(angles, values, linewidth=1, linestyle='solid' , color = '#ea3033') #เส้นกราฟ\n",
        "ax.fill(angles, values, 'lightpink', alpha=0.5) #พื้นที่"
      ],
      "metadata": {
        "id": "WgYYXjnuDDgY",
        "outputId": "1f02aa44-fbd2-4dcc-b69e-f176d999c411",
        "colab": {
          "base_uri": "https://localhost:8080/",
          "height": 0
        }
      },
      "execution_count": 250,
      "outputs": [
        {
          "output_type": "execute_result",
          "data": {
            "text/plain": [
              "[<matplotlib.patches.Polygon at 0x7fc1b7069b10>]"
            ]
          },
          "metadata": {},
          "execution_count": 250
        },
        {
          "output_type": "display_data",
          "data": {
            "text/plain": [
              "<Figure size 576x576 with 1 Axes>"
            ],
            "image/png": "[encoded data removed]"
          },
          "metadata": {
            "needs_background": "dark"
          }
        }
      ]
    },
    {
      "cell_type": "markdown",
      "source": [
        "## Plot แต่ละคน"
      ],
      "metadata": {
        "id": "_1vIlAfKESXZ"
      }
    },
    {
      "cell_type": "code",
      "source": [
        "# คำนวณมุมของแต่ละคุณสมบัติ\n",
        "angles = [n / float(len(categories)) * 2 * pi for n in range(len(categories))] ## เปลี่ยน len(categories) เป็นจำนวนคุณสมบัติที่จะ plot\n",
        "angles += angles[:1]\n",
        "\n",
        "# สร้าง background graph\n",
        "fig, ax = plt.subplots(nrows=1, ncols=1, figsize=(8, 8),\n",
        "                       subplot_kw=dict(polar=True))\n",
        "\n",
        "plt.xticks(angles[:-1], categories, color='grey', size=12)\n",
        "plt.yticks(np.arange(1, 10), ['1', '2', '3', '4', '5','6','7','8','9','10'],    ## กำหนด scale ของค่าที่ต้องการแสดง\n",
        "           color='grey', size=12)\n",
        "\n",
        "plt.ylim(0, 10)\n",
        "ax.set_rlabel_position(30)\n",
        "\n",
        "# plot คนที่ 1\n",
        "val_c1 = df.loc[0].drop('client_id').values.flatten().tolist()    ## เลือกค่าที่ต้องการแสดง\n",
        "val_c1 += val_c1[:1]\n",
        "ax.plot(angles, val_c1, linewidth=1,\n",
        "        linestyle='solid', label='Person1')\n",
        "ax.fill(angles, val_c1, 'skyblue', alpha=0.4)     ## เลือกสี\n",
        "\n",
        "# plot คนที่ 2\n",
        "val_c2 = df.loc[1].drop('client_id').values.flatten().tolist()   ## เลือกค่าที่ต้องการแสดง\n",
        "val_c2 += val_c2[:1]\n",
        "ax.plot(angles, val_c2, linewidth=1,\n",
        "        linestyle='solid', label='Person2')\n",
        "ax.fill(angles, val_c2, 'lightpink', alpha=0.4)   ## เลือกสี\n",
        "\n",
        "ax.legend();"
      ],
      "metadata": {
        "id": "8pyq_mNuGvVg",
        "outputId": "2979741d-d213-4cfa-b421-cdbe4e89552e",
        "colab": {
          "base_uri": "https://localhost:8080/",
          "height": 0
        }
      },
      "execution_count": 251,
      "outputs": [
        {
          "output_type": "display_data",
          "data": {
            "text/plain": [
              "<Figure size 576x576 with 1 Axes>"
            ],
            "image/png": "[encoded data removed]"
          },
          "metadata": {
            "needs_background": "dark"
          }
        }
      ]
    },
    {
      "cell_type": "code",
      "source": [
        "# คำนวณมุมของแต่ละคุณสมบัติ\n",
        "angles = [n / float(len(categories)) * 2 * pi for n in range(len(categories))] ## เปลี่ยน len(categories) เป็นจำนวนคุณสมบัติที่จะ plot\n",
        "angles += angles[:1]\n",
        "\n",
        "# สร้าง background graph\n",
        "fig, ax = plt.subplots(nrows=1, ncols=1, figsize=(8, 8),\n",
        "                       subplot_kw=dict(polar=True))\n",
        "\n",
        "plt.xticks(angles[:-1], categories, color='grey', size=12)\n",
        "plt.yticks(np.arange(1, 10), ['1', '2', '3', '4', '5','6','7','8','9','10'],    ## กำหนด scale ของค่าที่ต้องการแสดง\n",
        "           color='grey', size=12)\n",
        "\n",
        "plt.ylim(0, 10)\n",
        "ax.set_rlabel_position(30)\n",
        "\n",
        "# plot คนที่ 1\n",
        "val_c1 = df.loc[0].drop('client_id').values.flatten().tolist()    ## เลือกค่าที่ต้องการแสดง\n",
        "val_c1 += val_c1[:1]\n",
        "ax.plot(angles, val_c1, linewidth=1,\n",
        "        linestyle='solid', label='Person1')\n",
        "ax.fill(angles, val_c1, 'skyblue', alpha=0.4)     ## เลือกสี\n",
        "\n",
        "# plot คนที่ 2\n",
        "val_c2 = df.loc[1].drop('client_id').values.flatten().tolist()   ## เลือกค่าที่ต้องการแสดง\n",
        "val_c2 += val_c2[:1]\n",
        "ax.plot(angles, val_c2, linewidth=1,\n",
        "        linestyle='solid', label='Person2')\n",
        "ax.fill(angles, val_c2, 'lightpink', alpha=0.4)   ## เลือกสี\n",
        "\n",
        "# plot ค่าเฉลี่ย\n",
        "values = df.mean().values.flatten().tolist()    ## เลือกค่าที่ต้องการแสดง\n",
        "values += values[:1] \n",
        "ax.plot(angles, values, linewidth=1, linestyle='solid' , color = 'g', label='Average Values') \n",
        "ax.fill(angles, values, 'lightgreen', alpha=0.5)    ## เลือกสี\n",
        "\n",
        "ax.legend();"
      ],
      "metadata": {
        "id": "mMNPSf35DX0_",
        "outputId": "6d453198-19fa-4dc9-b13b-afc3bc6e9b83",
        "colab": {
          "base_uri": "https://localhost:8080/",
          "height": 0
        }
      },
      "execution_count": 252,
      "outputs": [
        {
          "output_type": "stream",
          "name": "stderr",
          "text": [
            "/usr/local/lib/python3.7/dist-packages/ipykernel_launcher.py:31: FutureWarning: Dropping of nuisance columns in DataFrame reductions (with 'numeric_only=None') is deprecated; in a future version this will raise TypeError.  Select only valid columns before calling the reduction.\n"
          ]
        },
        {
          "output_type": "display_data",
          "data": {
            "text/plain": [
              "<Figure size 576x576 with 1 Axes>"
            ],
            "image/png": "[encoded data removed]"
          },
          "metadata": {
            "needs_background": "dark"
          }
        }
      ]
    },
    {
      "cell_type": "code",
      "source": [
        "angles"
      ],
      "metadata": {
        "id": "0pkKP7fhFJfV",
        "outputId": "5a9d1b1a-a74a-456c-cbcf-2fe4cd13baa4",
        "colab": {
          "base_uri": "https://localhost:8080/"
        }
      },
      "execution_count": 253,
      "outputs": [
        {
          "output_type": "execute_result",
          "data": {
            "text/plain": [
              "[0.0,\n",
              " 1.2566370614359172,\n",
              " 2.5132741228718345,\n",
              " 3.7699111843077517,\n",
              " 5.026548245743669,\n",
              " 0.0]"
            ]
          },
          "metadata": {},
          "execution_count": 253
        }
      ]
    },
    {
      "cell_type": "code",
      "source": [
        "val_c1"
      ],
      "metadata": {
        "id": "BH7NoMFNIXZH",
        "outputId": "f9132732-b772-4f72-c587-f187d25eff33",
        "colab": {
          "base_uri": "https://localhost:8080/"
        }
      },
      "execution_count": 254,
      "outputs": [
        {
          "output_type": "execute_result",
          "data": {
            "text/plain": [
              "[10, 7, 4, 4, 2, 10]"
            ]
          },
          "metadata": {},
          "execution_count": 254
        }
      ]
    },
    {
      "cell_type": "code",
      "source": [
        ""
      ],
      "metadata": {
        "id": "iGnYPElBIpiJ"
      },
      "execution_count": 254,
      "outputs": []
    }
  ]
}